{
 "cells": [
  {
   "cell_type": "markdown",
   "metadata": {},
   "source": [
    "A queue is defined as a linear data structure that is open at both ends and the operations are performed in First In First Out (FIFO) order.<br>\n",
    "\n",
    "We define a queue to be a list in which all additions to the list are made at one end, and all deletions from the list are made at the other end. <br> The element which is first pushed into the order, the operation is first performed on that."
   ]
  },
  {
   "cell_type": "markdown",
   "metadata": {},
   "source": [
    "<img src = 'https://media.geeksforgeeks.org/wp-content/uploads/20220816162225/Queue.png'>"
   ]
  },
  {
   "cell_type": "markdown",
   "metadata": {},
   "source": []
  }
 ],
 "metadata": {
  "kernelspec": {
   "display_name": "Python 3.10.8 64-bit",
   "language": "python",
   "name": "python3"
  },
  "language_info": {
   "name": "python",
   "version": "3.10.8"
  },
  "orig_nbformat": 4,
  "vscode": {
   "interpreter": {
    "hash": "aee8b7b246df8f9039afb4144a1f6fd8d2ca17a180786b69acc140d282b71a49"
   }
  }
 },
 "nbformat": 4,
 "nbformat_minor": 2
}
