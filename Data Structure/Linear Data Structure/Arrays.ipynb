{
 "cells": [
  {
   "cell_type": "code",
   "execution_count": 1,
   "metadata": {},
   "outputs": [],
   "source": [
    "import array"
   ]
  },
  {
   "cell_type": "markdown",
   "metadata": {},
   "source": [
    "**array(data type, value list)**:- This function is used to create an <br>\n",
    "array with data type and value list specified in its arguments. Some <br> data types are mentioned in the table below."
   ]
  },
  {
   "cell_type": "markdown",
   "metadata": {},
   "source": [
    "| Type Code | C Type             | Python Type       | Minimum size in Bytes |   |\n",
    "|-----------|--------------------|-------------------|-----------------------|---|\n",
    "| ‘b’       | signed char        | int               | 1                     |   |\n",
    "| ‘B’       | unsigned char      | int               | 1                     |   |\n",
    "| ‘u’       | Py_UNICODE         | unicode character | 2                     |   |\n",
    "| ‘h’       | signed short       | int               | 2                     |   |\n",
    "| ‘H’       | unsigned short     | int               | 2                     |   |\n",
    "| ‘i’       | signed int         | int               | 2                     |   |\n",
    "| ‘I’       | unsigned int       | int               | 2                     |   |\n",
    "| ‘l’       | signed long        | int               | 4                     |   |\n",
    "| ‘L’       | unsigned long      | int               | 4                     |   |\n",
    "| ‘q’       | signed long long   | int               | 8                     |   |\n",
    "| ‘Q’       | unsigned long long | int               | 8                     |   |\n",
    "| ‘f’       | float              | float             | 4                     |   |\n",
    "| ‘d’       | double             | float             | 8                     |   |"
   ]
  },
  {
   "cell_type": "markdown",
   "metadata": {},
   "source": [
    "<img src = 'https://media.geeksforgeeks.org/wp-content/uploads/array-2.png'>"
   ]
  },
  {
   "cell_type": "code",
   "execution_count": 2,
   "metadata": {},
   "outputs": [],
   "source": [
    "arr = array.array('i',[1,2,3])"
   ]
  },
  {
   "cell_type": "code",
   "execution_count": 3,
   "metadata": {},
   "outputs": [
    {
     "name": "stdout",
     "output_type": "stream",
     "text": [
      "The New Created Array is :1 2 3 "
     ]
    }
   ],
   "source": [
    "print('The New Created Array is :',end = '')\n",
    "for i in range(0,3):\n",
    "    print(arr[i], end = ' ')"
   ]
  },
  {
   "cell_type": "code",
   "execution_count": 4,
   "metadata": {},
   "outputs": [],
   "source": [
    "# Using Append Method Add Few Elements.\n",
    "arr.append(4)"
   ]
  },
  {
   "cell_type": "code",
   "execution_count": 5,
   "metadata": {},
   "outputs": [
    {
     "name": "stdout",
     "output_type": "stream",
     "text": [
      "The Appended Array is : 1 2 3 4 "
     ]
    }
   ],
   "source": [
    "#Printing Appended Array\n",
    "print('The Appended Array is : ', end = '' )\n",
    "for i in range(0,4):\n",
    "    print(arr[i],end=' ')"
   ]
  },
  {
   "cell_type": "code",
   "execution_count": 6,
   "metadata": {},
   "outputs": [],
   "source": [
    "# using insert() to insert value at specific position\n",
    "# inserts 5 at 2nd position\n",
    "arr.insert(2,5)"
   ]
  },
  {
   "cell_type": "code",
   "execution_count": 7,
   "metadata": {},
   "outputs": [
    {
     "name": "stdout",
     "output_type": "stream",
     "text": [
      "The Array After Insertion is : 1 2 5 3 4 "
     ]
    }
   ],
   "source": [
    "#Printing the Array After Insertion\n",
    "print('The Array After Insertion is : ',end = '')\n",
    "for i in range(0,5):\n",
    "    print(arr[i],end=' ')"
   ]
  },
  {
   "cell_type": "markdown",
   "metadata": {},
   "source": [
    "**pop()**:- This function removes the element at the position mentioned in its argument and returns it."
   ]
  },
  {
   "cell_type": "markdown",
   "metadata": {},
   "source": [
    "**remove()**:- This function is used to remove the first occurrence of the value mentioned in its arguments."
   ]
  },
  {
   "cell_type": "code",
   "execution_count": 8,
   "metadata": {},
   "outputs": [
    {
     "name": "stdout",
     "output_type": "stream",
     "text": [
      "The new created array is : 1 2 3 1 5 \n",
      "The popped element is : 3\n",
      "The array after popping is : 1 2 1 5 \n",
      "The array after removing is : 2 1 5 "
     ]
    }
   ],
   "source": [
    "# Python code to demonstrate the working of\n",
    "# pop() and remove()\n",
    " \n",
    "# importing \"array\" for array operations\n",
    "import array\n",
    " \n",
    "# initializing array with array values\n",
    "# initializes array with signed integers\n",
    "arr= array.array('i',[1, 2, 3, 1, 5])\n",
    " \n",
    "# printing original array\n",
    "print (\"The new created array is : \",end=\"\")\n",
    "for i in range (0,5):\n",
    "    print (arr[i],end=\" \")\n",
    " \n",
    "print (\"\\r\")\n",
    " \n",
    "# using pop() to remove element at 2nd position\n",
    "print (\"The popped element is : \",end=\"\")\n",
    "print (arr.pop(2));\n",
    " \n",
    "# printing array after popping\n",
    "print (\"The array after popping is : \",end=\"\")\n",
    "for i in range (0,4):\n",
    "    print (arr[i],end=\" \")\n",
    " \n",
    "print(\"\\r\")\n",
    " \n",
    "# using remove() to remove 1st occurrence of 1\n",
    "arr.remove(1)\n",
    " \n",
    "# printing array after removing\n",
    "print (\"The array after removing is : \",end=\"\")\n",
    "for i in range (0,3):\n",
    "    print (arr[i],end=\" \")"
   ]
  },
  {
   "cell_type": "markdown",
   "metadata": {},
   "source": [
    "**index()**:- This function returns the index of the first occurrence of the value mentioned in the arguments.<br>\n",
    "**reverse()**:- This function reverses the array."
   ]
  },
  {
   "cell_type": "code",
   "execution_count": 9,
   "metadata": {},
   "outputs": [
    {
     "name": "stdout",
     "output_type": "stream",
     "text": [
      "The new created array is : 1 2 3 1 2 5 \n",
      "The index of 1st occurrence of 2 is : 1\n",
      "The array after reversing is : 5 2 1 3 2 1 "
     ]
    }
   ],
   "source": [
    "# Python code to demonstrate the working of\n",
    "# index() and reverse()\n",
    "  \n",
    "# importing \"array\" for array operations\n",
    "import array\n",
    "  \n",
    "# initializing array with array values\n",
    "# initializes array with signed integers\n",
    "arr= array.array('i',[1, 2, 3, 1, 2, 5])\n",
    " \n",
    "# printing original array\n",
    "print (\"The new created array is : \",end=\"\")\n",
    "for i in range (0,6):\n",
    "    print (arr[i],end=\" \")\n",
    " \n",
    "print (\"\\r\")\n",
    " \n",
    "# using index() to print index of 1st occurrence of 2\n",
    "print (\"The index of 1st occurrence of 2 is : \",end=\"\")\n",
    "print (arr.index(2))\n",
    " \n",
    "#using reverse() to reverse the array\n",
    "arr.reverse()\n",
    " \n",
    "# printing array after reversing\n",
    "print (\"The array after reversing is : \",end=\"\")\n",
    "for i in range (0,6):\n",
    "    print (arr[i],end=\" \")"
   ]
  }
 ],
 "metadata": {
  "kernelspec": {
   "display_name": "Python 3.10.8 64-bit",
   "language": "python",
   "name": "python3"
  },
  "language_info": {
   "codemirror_mode": {
    "name": "ipython",
    "version": 3
   },
   "file_extension": ".py",
   "mimetype": "text/x-python",
   "name": "python",
   "nbconvert_exporter": "python",
   "pygments_lexer": "ipython3",
   "version": "3.10.8"
  },
  "orig_nbformat": 4,
  "vscode": {
   "interpreter": {
    "hash": "aee8b7b246df8f9039afb4144a1f6fd8d2ca17a180786b69acc140d282b71a49"
   }
  }
 },
 "nbformat": 4,
 "nbformat_minor": 2
}
