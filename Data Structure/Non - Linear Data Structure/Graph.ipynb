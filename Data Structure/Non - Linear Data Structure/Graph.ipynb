{
 "cells": [
  {
   "cell_type": "markdown",
   "metadata": {},
   "source": [
    "A **graph** is a pictorial representation of a set of objects where some pairs of objects are connected by links. The interconnected objects are represented by points <br>termed as vertices, and the links that connect the vertices are called edges. The various terms and functionalities associated with a graph is described in great detail <br>in our tutorial here.<br>\n",
    "\n",
    "In this chapter we are going to see how to create a graph and add various data elements to it using a python program. Following are the basic operations we perform on <br>graphs.\n",
    "<br>\n",
    "- Display graph vertices\n",
    "- Display graph edges\n",
    "- Add a vertex\n",
    "- Add an edge\n",
    "- Creating a graph\n",
    "\n",
    "\n",
    "A **graph** can be easily presented using the python dictionary data types. We represent the vertices as the keys of the dictionary and the connection between the vertices also <br> called edges as the values in the dictionary.<br>\n",
    "\n",
    "Take a look at the following graph − <br>\n",
    "\n",
    "<img src = 'https://www.tutorialspoint.com/python_data_structure/images/graph_basics.jpg'>"
   ]
  },
  {
   "cell_type": "markdown",
   "metadata": {},
   "source": [
    "In the above graph, <br>\n",
    "V = {a, b, c, d, e} <br>\n",
    "E = {ab, ac, bd, cd, de} <br>\n",
    "\n",
    "We can present this graph in a python program as below −"
   ]
  },
  {
   "cell_type": "code",
   "execution_count": 1,
   "metadata": {},
   "outputs": [
    {
     "name": "stdout",
     "output_type": "stream",
     "text": [
      "{'a': ['b', 'c'], 'b': ['a', 'd'], 'c': ['a', 'd'], 'd': ['e'], 'e': ['d']}\n"
     ]
    }
   ],
   "source": [
    "# Create the dictionary with graph elements\n",
    "graph = { \n",
    "   \"a\" : [\"b\",\"c\"],\n",
    "   \"b\" : [\"a\", \"d\"],\n",
    "   \"c\" : [\"a\", \"d\"],\n",
    "   \"d\" : [\"e\"],\n",
    "   \"e\" : [\"d\"]\n",
    "}\n",
    "# Print the graph \t\t \n",
    "print(graph)"
   ]
  },
  {
   "cell_type": "markdown",
   "metadata": {},
   "source": [
    "To display the graph **vertices** we simple find the keys of the graph dictionary. We use the keys() method."
   ]
  },
  {
   "cell_type": "code",
   "execution_count": 2,
   "metadata": {},
   "outputs": [
    {
     "name": "stdout",
     "output_type": "stream",
     "text": [
      "['a', 'b', 'c', 'd', 'e']\n"
     ]
    }
   ],
   "source": [
    "class graph:\n",
    "   def __init__(self,gdict=None):\n",
    "      if gdict is None:\n",
    "         gdict = []\n",
    "      self.gdict = gdict\n",
    "# Get the keys of the dictionary\n",
    "   def getVertices(self):\n",
    "      return list(self.gdict.keys())\n",
    "# Create the dictionary with graph elements\n",
    "graph_elements = { \n",
    "   \"a\" : [\"b\",\"c\"],\n",
    "   \"b\" : [\"a\", \"d\"],\n",
    "   \"c\" : [\"a\", \"d\"],\n",
    "   \"d\" : [\"e\"],\n",
    "   \"e\" : [\"d\"]\n",
    "}\n",
    "g = graph(graph_elements)\n",
    "print(g.getVertices())"
   ]
  },
  {
   "cell_type": "markdown",
   "metadata": {},
   "source": [
    "**Display graph edges** <br>\n",
    "Finding the graph edges is little tricker than the vertices as we have to find each of the pairs of vertices which have an edge in between them. So we create an empty list <br>of edges then iterate through the edge values associated with each of the vertices. A list is formed containing the distinct group of edges found from the vertices.<br>"
   ]
  },
  {
   "cell_type": "code",
   "execution_count": 3,
   "metadata": {},
   "outputs": [
    {
     "name": "stdout",
     "output_type": "stream",
     "text": [
      "[{'a', 'b'}, {'c', 'a'}, {'d', 'b'}, {'c', 'd'}, {'d', 'e'}]\n"
     ]
    }
   ],
   "source": [
    "class graph:\n",
    "   def __init__(self,gdict=None):\n",
    "      if gdict is None:\n",
    "         gdict = {}\n",
    "      self.gdict = gdict\n",
    "\n",
    "   def edges(self):\n",
    "      return self.findedges()\n",
    "# Find the distinct list of edges\n",
    "   def findedges(self):\n",
    "      edgename = []\n",
    "      for vrtx in self.gdict:\n",
    "         for nxtvrtx in self.gdict[vrtx]:\n",
    "            if {nxtvrtx, vrtx} not in edgename:\n",
    "               edgename.append({vrtx, nxtvrtx})\n",
    "      return edgename\n",
    "# Create the dictionary with graph elements\n",
    "graph_elements = { \n",
    "   \"a\" : [\"b\",\"c\"],\n",
    "   \"b\" : [\"a\", \"d\"],\n",
    "   \"c\" : [\"a\", \"d\"],\n",
    "   \"d\" : [\"e\"],\n",
    "   \"e\" : [\"d\"]\n",
    "}\n",
    "g = graph(graph_elements)\n",
    "print(g.edges())"
   ]
  },
  {
   "cell_type": "markdown",
   "metadata": {},
   "source": [
    "Adding a **vertex** is straight forward where we add another additional key to the graph dictionary."
   ]
  },
  {
   "cell_type": "code",
   "execution_count": 4,
   "metadata": {},
   "outputs": [
    {
     "name": "stdout",
     "output_type": "stream",
     "text": [
      "['a', 'b', 'c', 'd', 'e', 'f']\n"
     ]
    }
   ],
   "source": [
    "class graph:\n",
    "   def __init__(self,gdict=None):\n",
    "      if gdict is None:\n",
    "         gdict = {}\n",
    "      self.gdict = gdict\n",
    "   def getVertices(self):\n",
    "      return list(self.gdict.keys())\n",
    "# Add the vertex as a key\n",
    "   def addVertex(self, vrtx):\n",
    "      if vrtx not in self.gdict:\n",
    "         self.gdict[vrtx] = []\n",
    "# Create the dictionary with graph elements\n",
    "graph_elements = { \n",
    "   \"a\" : [\"b\",\"c\"],\n",
    "   \"b\" : [\"a\", \"d\"],\n",
    "   \"c\" : [\"a\", \"d\"],\n",
    "   \"d\" : [\"e\"],\n",
    "   \"e\" : [\"d\"]\n",
    "}\n",
    "g = graph(graph_elements)\n",
    "g.addVertex(\"f\")\n",
    "print(g.getVertices())"
   ]
  },
  {
   "cell_type": "markdown",
   "metadata": {},
   "source": [
    "Adding an **edge** to an existing graph involves treating the new vertex as a tuple and validating if the edge is already present. If not then the edge is added."
   ]
  },
  {
   "cell_type": "code",
   "execution_count": 13,
   "metadata": {},
   "outputs": [
    {
     "name": "stdout",
     "output_type": "stream",
     "text": [
      "[{'a', 'b'}]\n"
     ]
    }
   ],
   "source": [
    "class graph:\n",
    "   def __init__(self,gdict=None):\n",
    "      if gdict is None:\n",
    "         gdict = {}\n",
    "      self.gdict = gdict\n",
    "   def edges(self):\n",
    "      return self.findedges()\n",
    "# Add the new edge\n",
    "   def AddEdge(self, edge):\n",
    "      edge = set(edge)\n",
    "      (vrtx1, vrtx2) = tuple(edge)\n",
    "      if vrtx1 in self.gdict:\n",
    "         self.gdict[vrtx1].append(vrtx2)\n",
    "      else:\n",
    "         self.gdict[vrtx1] = [vrtx2]\n",
    "# List the edge names\n",
    "   def findedges(self):\n",
    "      edgename = []\n",
    "      for vrtx in self.gdict:\n",
    "         for nxtvrtx in self.gdict[vrtx]:\n",
    "            if {nxtvrtx, vrtx} not in edgename:\n",
    "               edgename.append({vrtx, nxtvrtx})\n",
    "            return edgename\n",
    "# Create the dictionary with graph elements\n",
    "graph_elements = { \n",
    "   \"a\" : [\"b\",\"c\"],\n",
    "   \"b\" : [\"a\", \"d\"],\n",
    "   \"c\" : [\"a\", \"d\"],\n",
    "   \"d\" : [\"e\"],\n",
    "   \"e\" : [\"d\"]\n",
    "}\n",
    "g = graph(graph_elements)\n",
    "g.AddEdge({'a','e'})\n",
    "g.AddEdge({'a','c'})\n",
    "print(g.edges())"
   ]
  }
 ],
 "metadata": {
  "kernelspec": {
   "display_name": "Python 3.10.8 64-bit",
   "language": "python",
   "name": "python3"
  },
  "language_info": {
   "codemirror_mode": {
    "name": "ipython",
    "version": 3
   },
   "file_extension": ".py",
   "mimetype": "text/x-python",
   "name": "python",
   "nbconvert_exporter": "python",
   "pygments_lexer": "ipython3",
   "version": "3.10.8"
  },
  "orig_nbformat": 4,
  "vscode": {
   "interpreter": {
    "hash": "cddf2645a6a3ab2d03dc52c73588f8603eb596e75ff57e7d6cdffdd4fb718815"
   }
  }
 },
 "nbformat": 4,
 "nbformat_minor": 2
}
