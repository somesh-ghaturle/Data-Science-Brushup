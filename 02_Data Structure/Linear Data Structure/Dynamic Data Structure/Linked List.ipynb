{
 "cells": [
  {
   "cell_type": "markdown",
   "metadata": {},
   "source": [
    "A **linked list** is a linear data structure, in which the elements are not stored at contiguous memory locations. The elements in a linked list are linked using pointers as shown in the below image:"
   ]
  },
  {
   "cell_type": "markdown",
   "metadata": {},
   "source": [
    "<img src = 'https://media.geeksforgeeks.org/wp-content/cdn-uploads/gq/2013/03/Linkedlist.png'>"
   ]
  },
  {
   "cell_type": "code",
   "execution_count": 1,
   "metadata": {},
   "outputs": [
    {
     "name": "stdout",
     "output_type": "stream",
     "text": [
      "Mon\n",
      "Tue\n",
      "Wed\n"
     ]
    }
   ],
   "source": [
    "class Node:\n",
    "   def __init__(self, dataval=None):\n",
    "      self.dataval = dataval\n",
    "      self.nextval = None\n",
    "\n",
    "class SLinkedList:\n",
    "   def __init__(self):\n",
    "      self.headval = None\n",
    "\n",
    "   def listprint(self):\n",
    "      printval = self.headval\n",
    "      while printval is not None:\n",
    "         print (printval.dataval)\n",
    "         printval = printval.nextval\n",
    "\n",
    "list = SLinkedList()\n",
    "list.headval = Node(\"Mon\")\n",
    "e2 = Node(\"Tue\")\n",
    "e3 = Node(\"Wed\")\n",
    "\n",
    "# Link first Node to second node\n",
    "list.headval.nextval = e2\n",
    "\n",
    "# Link second Node to third node\n",
    "e2.nextval = e3\n",
    "\n",
    "list.listprint()"
   ]
  }
 ],
 "metadata": {
  "kernelspec": {
   "display_name": "Python 3.10.8 64-bit",
   "language": "python",
   "name": "python3"
  },
  "language_info": {
   "codemirror_mode": {
    "name": "ipython",
    "version": 3
   },
   "file_extension": ".py",
   "mimetype": "text/x-python",
   "name": "python",
   "nbconvert_exporter": "python",
   "pygments_lexer": "ipython3",
   "version": "3.10.8"
  },
  "orig_nbformat": 4,
  "vscode": {
   "interpreter": {
    "hash": "cddf2645a6a3ab2d03dc52c73588f8603eb596e75ff57e7d6cdffdd4fb718815"
   }
  }
 },
 "nbformat": 4,
 "nbformat_minor": 2
}
