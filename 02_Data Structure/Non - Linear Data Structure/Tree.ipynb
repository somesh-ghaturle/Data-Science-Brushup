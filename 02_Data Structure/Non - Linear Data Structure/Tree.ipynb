{
 "cells": [
  {
   "cell_type": "markdown",
   "metadata": {},
   "source": [
    "A **Binary tree** is represented by a pointer to the topmost node of the tree. If the tree is empty, then the value of the root is NULL.\n",
    "\n",
    "Binary Tree node contains the following parts:\n",
    "\n",
    "#### Data\n",
    "- Pointer to left child\n",
    "- Pointer to right child\n",
    "\n",
    "#### Basic Operation On Binary Tree:\n",
    "- Inserting an element.\n",
    "- Removing an element.\n",
    "- Searching for an element.\n",
    "- Traversing an element.\n",
    "\n",
    "#### Auxiliary Operation On Binary Tree:\n",
    "- Finding the height of the tree\n",
    "- Find the level of the tree\n",
    "- Finding the size of the entire tree."
   ]
  },
  {
   "cell_type": "markdown",
   "metadata": {},
   "source": [
    "<img src = 'https://www.geeksforgeeks.org/wp-content/uploads/binary-tree-to-DLL.png'>"
   ]
  },
  {
   "cell_type": "markdown",
   "metadata": {},
   "source": [
    "**Create Root** <br>\n",
    "We just create a Node class and add assign a value to the node. This becomes tree with only a root node."
   ]
  },
  {
   "cell_type": "code",
   "execution_count": 1,
   "metadata": {},
   "outputs": [
    {
     "name": "stdout",
     "output_type": "stream",
     "text": [
      "10\n"
     ]
    }
   ],
   "source": [
    "class Node:\n",
    "   def __init__(self, data):\n",
    "      self.left = None\n",
    "      self.right = None\n",
    "      self.data = data\n",
    "   def PrintTree(self):\n",
    "      print(self.data)\n",
    "\n",
    "root = Node(10)\n",
    "root.PrintTree()"
   ]
  },
  {
   "cell_type": "markdown",
   "metadata": {},
   "source": [
    "**Inserting into a Tree** <br>\n",
    "To insert into a tree we use the same node class created above and add a insert class to it. The insert class compares the value of the node to the parent node and decides to add it as a left node or a right node. Finally the PrintTree class is used to print the tree."
   ]
  },
  {
   "cell_type": "code",
   "execution_count": 3,
   "metadata": {},
   "outputs": [
    {
     "name": "stdout",
     "output_type": "stream",
     "text": [
      "3\n",
      "6\n",
      "12\n",
      "14\n"
     ]
    }
   ],
   "source": [
    "class Node:\n",
    "   def __init__(self, data):\n",
    "      self.left = None\n",
    "      self.right = None\n",
    "      self.data = data\n",
    "\n",
    "   def insert(self, data):\n",
    "# Compare the new value with the parent node\n",
    "      if self.data:\n",
    "         if data < self.data:\n",
    "            if self.left is None:\n",
    "               self.left = Node(data)\n",
    "            else:\n",
    "               self.left.insert(data)\n",
    "         elif data > self.data:\n",
    "               if self.right is None:\n",
    "                  self.right = Node(data)\n",
    "               else:\n",
    "                  self.right.insert(data)\n",
    "      else:\n",
    "         self.data = data\n",
    "\n",
    "# Print the tree\n",
    "   def PrintTree(self):\n",
    "      if self.left:\n",
    "         self.left.PrintTree()\n",
    "      print( self.data),\n",
    "      if self.right:\n",
    "         self.right.PrintTree()\n",
    "\n",
    "# Use the insert method to add nodes\n",
    "root = Node(12)\n",
    "root.insert(6)\n",
    "root.insert(14)\n",
    "root.insert(3)\n",
    "root.PrintTree()"
   ]
  }
 ],
 "metadata": {
  "kernelspec": {
   "display_name": "Python 3.10.8 64-bit",
   "language": "python",
   "name": "python3"
  },
  "language_info": {
   "codemirror_mode": {
    "name": "ipython",
    "version": 3
   },
   "file_extension": ".py",
   "mimetype": "text/x-python",
   "name": "python",
   "nbconvert_exporter": "python",
   "pygments_lexer": "ipython3",
   "version": "3.10.8"
  },
  "orig_nbformat": 4,
  "vscode": {
   "interpreter": {
    "hash": "cddf2645a6a3ab2d03dc52c73588f8603eb596e75ff57e7d6cdffdd4fb718815"
   }
  }
 },
 "nbformat": 4,
 "nbformat_minor": 2
}
