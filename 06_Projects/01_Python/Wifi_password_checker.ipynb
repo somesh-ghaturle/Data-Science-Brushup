{
 "cells": [
  {
   "cell_type": "code",
   "execution_count": 1,
   "metadata": {},
   "outputs": [
    {
     "name": "stdout",
     "output_type": "stream",
     "text": [
      "GCP                           |  Paramvir@00\n",
      "iPhone                        |  9988776667\n"
     ]
    },
    {
     "ename": "CalledProcessError",
     "evalue": "Command '['netsh', 'wlan', 'show', 'profile', \"Somesh's iPhone\", 'key=clear']' returned non-zero exit status 1.",
     "output_type": "error",
     "traceback": [
      "\u001b[1;31m---------------------------------------------------------------------------\u001b[0m",
      "\u001b[1;31mCalledProcessError\u001b[0m                        Traceback (most recent call last)",
      "Cell \u001b[1;32mIn [1], line 15\u001b[0m\n\u001b[0;32m     11\u001b[0m \u001b[39m# using for loop in python we are checking and printing the wifi \u001b[39;00m\n\u001b[0;32m     12\u001b[0m \u001b[39m# passwords if they are available using the 2nd cmd command\u001b[39;00m\n\u001b[0;32m     13\u001b[0m \u001b[39mfor\u001b[39;00m i \u001b[39min\u001b[39;00m profiles:\n\u001b[0;32m     14\u001b[0m     \u001b[39m# running the 2nd cmd command to check passwords\u001b[39;00m\n\u001b[1;32m---> 15\u001b[0m     results \u001b[39m=\u001b[39m subprocess\u001b[39m.\u001b[39;49mcheck_output([\u001b[39m'\u001b[39;49m\u001b[39mnetsh\u001b[39;49m\u001b[39m'\u001b[39;49m, \u001b[39m'\u001b[39;49m\u001b[39mwlan\u001b[39;49m\u001b[39m'\u001b[39;49m, \u001b[39m'\u001b[39;49m\u001b[39mshow\u001b[39;49m\u001b[39m'\u001b[39;49m, \u001b[39m'\u001b[39;49m\u001b[39mprofile\u001b[39;49m\u001b[39m'\u001b[39;49m, i, \n\u001b[0;32m     16\u001b[0m                         \u001b[39m'\u001b[39;49m\u001b[39mkey=clear\u001b[39;49m\u001b[39m'\u001b[39;49m])\u001b[39m.\u001b[39mdecode(\u001b[39m'\u001b[39m\u001b[39mutf-8\u001b[39m\u001b[39m'\u001b[39m)\u001b[39m.\u001b[39msplit(\u001b[39m'\u001b[39m\u001b[39m\\n\u001b[39;00m\u001b[39m'\u001b[39m)\n\u001b[0;32m     17\u001b[0m     \u001b[39m# storing passwords after converting them to list\u001b[39;00m\n\u001b[0;32m     18\u001b[0m     results \u001b[39m=\u001b[39m [b\u001b[39m.\u001b[39msplit(\u001b[39m\"\u001b[39m\u001b[39m:\u001b[39m\u001b[39m\"\u001b[39m)[\u001b[39m1\u001b[39m][\u001b[39m1\u001b[39m:\u001b[39m-\u001b[39m\u001b[39m1\u001b[39m] \u001b[39mfor\u001b[39;00m b \u001b[39min\u001b[39;00m results \u001b[39mif\u001b[39;00m \u001b[39m\"\u001b[39m\u001b[39mKey Content\u001b[39m\u001b[39m\"\u001b[39m \u001b[39min\u001b[39;00m b]\n",
      "File \u001b[1;32mc:\\Users\\soghatur\\AppData\\Local\\Programs\\Python\\Python310\\lib\\subprocess.py:421\u001b[0m, in \u001b[0;36mcheck_output\u001b[1;34m(timeout, *popenargs, **kwargs)\u001b[0m\n\u001b[0;32m    418\u001b[0m         empty \u001b[39m=\u001b[39m \u001b[39mb\u001b[39m\u001b[39m'\u001b[39m\u001b[39m'\u001b[39m\n\u001b[0;32m    419\u001b[0m     kwargs[\u001b[39m'\u001b[39m\u001b[39minput\u001b[39m\u001b[39m'\u001b[39m] \u001b[39m=\u001b[39m empty\n\u001b[1;32m--> 421\u001b[0m \u001b[39mreturn\u001b[39;00m run(\u001b[39m*\u001b[39mpopenargs, stdout\u001b[39m=\u001b[39mPIPE, timeout\u001b[39m=\u001b[39mtimeout, check\u001b[39m=\u001b[39m\u001b[39mTrue\u001b[39;00m,\n\u001b[0;32m    422\u001b[0m            \u001b[39m*\u001b[39m\u001b[39m*\u001b[39mkwargs)\u001b[39m.\u001b[39mstdout\n",
      "File \u001b[1;32mc:\\Users\\soghatur\\AppData\\Local\\Programs\\Python\\Python310\\lib\\subprocess.py:526\u001b[0m, in \u001b[0;36mrun\u001b[1;34m(input, capture_output, timeout, check, *popenargs, **kwargs)\u001b[0m\n\u001b[0;32m    524\u001b[0m     retcode \u001b[39m=\u001b[39m process\u001b[39m.\u001b[39mpoll()\n\u001b[0;32m    525\u001b[0m     \u001b[39mif\u001b[39;00m check \u001b[39mand\u001b[39;00m retcode:\n\u001b[1;32m--> 526\u001b[0m         \u001b[39mraise\u001b[39;00m CalledProcessError(retcode, process\u001b[39m.\u001b[39margs,\n\u001b[0;32m    527\u001b[0m                                  output\u001b[39m=\u001b[39mstdout, stderr\u001b[39m=\u001b[39mstderr)\n\u001b[0;32m    528\u001b[0m \u001b[39mreturn\u001b[39;00m CompletedProcess(process\u001b[39m.\u001b[39margs, retcode, stdout, stderr)\n",
      "\u001b[1;31mCalledProcessError\u001b[0m: Command '['netsh', 'wlan', 'show', 'profile', \"Somesh's iPhone\", 'key=clear']' returned non-zero exit status 1."
     ]
    }
   ],
   "source": [
    "# first we will import the subprocess module\n",
    "import subprocess\n",
    "\n",
    "# now we will store the profiles data in \"data\" variable by \n",
    "# running the 1st cmd command using subprocess.check_output\n",
    "data = subprocess.check_output(['netsh', 'wlan', 'show', 'profiles']).decode('utf-8').split('\\n')\n",
    "\n",
    "# now we will store the profile by converting them to list\n",
    "profiles = [i.split(\":\")[1][1:-1] for i in data if \"All User Profile\" in i]\n",
    "\n",
    "# using for loop in python we are checking and printing the wifi \n",
    "# passwords if they are available using the 2nd cmd command\n",
    "for i in profiles:\n",
    "    # running the 2nd cmd command to check passwords\n",
    "    results = subprocess.check_output(['netsh', 'wlan', 'show', 'profile', i, \n",
    "                        'key=clear']).decode('utf-8').split('\\n')\n",
    "    # storing passwords after converting them to list\n",
    "    results = [b.split(\":\")[1][1:-1] for b in results if \"Key Content\" in b]\n",
    "    # printing the profiles(wifi name) with their passwords using \n",
    "    # try and except method \n",
    "    try:\n",
    "        print (\"{:<30}|  {:<}\".format(i, results[0]))\n",
    "    except IndexError:\n",
    "        print (\"{:<30}|  {:<}\".format(i, \"\"))"
   ]
  },
  {
   "cell_type": "code",
   "execution_count": null,
   "metadata": {},
   "outputs": [],
   "source": []
  }
 ],
 "metadata": {
  "kernelspec": {
   "display_name": "Python 3.10.8 64-bit",
   "language": "python",
   "name": "python3"
  },
  "language_info": {
   "codemirror_mode": {
    "name": "ipython",
    "version": 3
   },
   "file_extension": ".py",
   "mimetype": "text/x-python",
   "name": "python",
   "nbconvert_exporter": "python",
   "pygments_lexer": "ipython3",
   "version": "3.10.8"
  },
  "orig_nbformat": 4,
  "vscode": {
   "interpreter": {
    "hash": "cddf2645a6a3ab2d03dc52c73588f8603eb596e75ff57e7d6cdffdd4fb718815"
   }
  }
 },
 "nbformat": 4,
 "nbformat_minor": 2
}
