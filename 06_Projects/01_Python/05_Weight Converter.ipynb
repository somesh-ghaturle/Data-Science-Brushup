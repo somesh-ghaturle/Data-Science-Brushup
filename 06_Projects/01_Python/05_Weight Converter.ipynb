{
 "cells": [
  {
   "cell_type": "markdown",
   "metadata": {},
   "source": [
    "The standard weight conversion values include:\n",
    "\n",
    "1.  1 milligram = 0.001 gram\n",
    "2.  1 centigram = 0.01 gram\n",
    "3.  1 decigram = 0.1 gram\n",
    "4.  1 kilogram = 1000 grams\n",
    "5.  1 gram = 1000 milligrams\n",
    "6.  1 ton = 2000 pounds\n",
    "7.  1 pound = 16 ounces"
   ]
  },
  {
   "cell_type": "code",
   "execution_count": 6,
   "metadata": {},
   "outputs": [],
   "source": [
    "\n",
    "from tkinter import *\n",
    "# Creating a GUI Window\n",
    "window = Tk()\n",
    "def from_kg():\n",
    "    gram = float(e2_value.get())*1000\n",
    "    pound = float(e2_value.get())*2.20462\n",
    "    ounce = float(e2_value.get())*35.274\n",
    "    t1.delete(\"1.0\",END)\n",
    "    t1.insert(END, gram)\n",
    "    t2.delete(\"1.0\", END)\n",
    "    t2.insert(END, pound)\n",
    "    t3.delete(\"1.0\", END)\n",
    "    t3.insert(END, ounce)"
   ]
  },
  {
   "cell_type": "code",
   "execution_count": 7,
   "metadata": {},
   "outputs": [],
   "source": [
    "e1 = Label(window, text=\"Input the weight in KG\")\n",
    "e2_value = StringVar()\n",
    "e2 = Entry(window, textvariable=e2_value)\n",
    "e3 = Label(window, text=\"Gram\")\n",
    "e4 = Label(window, text=\"Pound\")\n",
    "e5 = Label(window, text=\"Ounce\")\n",
    "\n",
    "t1 = Text(window, height=5, width=30)\n",
    "t2 = Text(window, height=5, width=30)\n",
    "t3 = Text(window, height=5, width=30)\n",
    "\n",
    "b1 = Button(window, text=\"Convert\", command=from_kg)\n",
    "\n",
    "e1.grid(row=0, column=0)\n",
    "e2.grid(row=0, column=1)\n",
    "e3.grid(row=1, column=0)\n",
    "e4.grid(row=1, column=1)\n",
    "e5.grid(row=1, column=2)\n",
    "t1.grid(row=2, column=0)\n",
    "t2.grid(row=2, column=1)\n",
    "t3.grid(row=2, column=2)\n",
    "b1.grid(row=0, column=2)"
   ]
  },
  {
   "cell_type": "code",
   "execution_count": 8,
   "metadata": {},
   "outputs": [],
   "source": [
    "window.mainloop()"
   ]
  }
 ],
 "metadata": {
  "kernelspec": {
   "display_name": "Python 3.10.8 64-bit",
   "language": "python",
   "name": "python3"
  },
  "language_info": {
   "codemirror_mode": {
    "name": "ipython",
    "version": 3
   },
   "file_extension": ".py",
   "mimetype": "text/x-python",
   "name": "python",
   "nbconvert_exporter": "python",
   "pygments_lexer": "ipython3",
   "version": "3.10.8"
  },
  "orig_nbformat": 4,
  "vscode": {
   "interpreter": {
    "hash": "cddf2645a6a3ab2d03dc52c73588f8603eb596e75ff57e7d6cdffdd4fb718815"
   }
  }
 },
 "nbformat": 4,
 "nbformat_minor": 2
}
