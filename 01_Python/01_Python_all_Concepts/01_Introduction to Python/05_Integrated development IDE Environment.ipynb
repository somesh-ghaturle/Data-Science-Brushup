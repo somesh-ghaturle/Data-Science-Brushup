{
 "cells": [
  {
   "cell_type": "markdown",
   "metadata": {},
   "source": [
    "What is an IDE?\n",
    "---------------\n",
    "\n",
    "-   An IDE enables programmers to combine the different aspects of writing a computer program.\n",
    "-   IDEs increase programmer productivity by introducing features like editing source code, building executables, and debugging."
   ]
  },
  {
   "cell_type": "markdown",
   "metadata": {},
   "source": [
    "Which IDE to Use When?\n",
    "----------------------\n",
    "\n",
    "We will divide the preference into three categories:\n",
    "\n",
    "### 1\\. Based on Your Level of Knowledge\n",
    "\n",
    "-   Beginner - IDLE, Thonny would be the perfect choice for first-time programmers who are just getting into Python.\n",
    "-   Intermediate - For intermediate level users PyCharm, VS Code, Atom, Sublime Text 3 are good options.\n",
    "\n",
    "### 2\\. Based on Your End Goal\n",
    "\n",
    "-   Data Science - Spyder, Jupyter Notebook, PyCharm professional (Paid).\n",
    "-   Web Development - VS Code, PyCharm professional (Paid).\n",
    "-   Scripting - Atom, PyDev, Sublime Text 3, PyCharm Community (Free).\n",
    "\n",
    "### 3\\. Based on the Hardware You Use\n",
    "\n",
    "-   Basic (Pentium, Celeron) - IDLE, Atom, Sublime Text 3, Online IDEs.\n",
    "-   Developer (Intel core series) - PyCharm, Jupyter, Spyder, VS Code, Eclipse + PyDev.\n",
    "\n",
    "Which IDE Do We Recommend?\n",
    "--------------------------\n",
    "\n",
    "The preference of IDE should depend on your requirements. Here are different scenarios for you to help you decide which IDE to use.\n",
    "\n",
    "-   Data Science - Jupyter Notebook.\n",
    "-   Web Development  - VS Code.\n",
    "-   Scripting - PyCharm Community (Free)"
   ]
  }
 ],
 "metadata": {
  "language_info": {
   "name": "python"
  },
  "orig_nbformat": 4
 },
 "nbformat": 4,
 "nbformat_minor": 2
}
