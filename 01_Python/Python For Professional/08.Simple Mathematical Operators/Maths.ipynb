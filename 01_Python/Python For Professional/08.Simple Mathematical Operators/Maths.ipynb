{
 "cells": [
  {
   "cell_type": "markdown",
   "metadata": {},
   "source": [
    "***Numerical types and their metaclasses*** <br>\n",
    "\n",
    "The *numbers* module contains the abstract metaclasses for the numerical types:\n",
    "<table > <tr> <th> subclasses </th> <th> numbers.Number</th> <th>numbers.Integral</th> <th>numbers.Rational</th> <th>numbers.Real</th> <th>numbers.Complex</th> </tr>\n",
    "<tr> <th>bool</th> <th> ✓ </th> <th>✓ </th> <th>✓</th> <th> ✓</th> <th> ✓</th> </tr>\n",
    "<tr> <th>int </th> <th>✓ </th> <th>✓</th> <th> ✓</th> <th> ✓</th> <th> ✓</th> </tr>\n",
    "<tr> <th>fractions.Fraction</th> <th> ✓</th> <th> ―</th> <th> ✓</th> <th> ✓</th> <th> ✓</th> </tr>\n",
    "<tr> <th>float</th> <th> ✓</th> <th> ―</th> <th> ―</th> <th> ✓</th> <th> ✓</th> </tr>\n",
    "<tr> <th>complex</th> <th> ✓</th> <th> ―</th> <th> ―</th> <th> ―</th> <th> ✓</th> </tr>\n",
    "<tr> <th>decimal.Decimal</th> <th> ✓</th> <th> ―</th> <th> ―</th> <th> ―</th> <th> ―</th> </tr>"
   ]
  },
  {
   "cell_type": "markdown",
   "metadata": {},
   "source": [
    "Python does common mathematical operators on its own, including integer and float division, multiplication, <br>\n",
    "exponentiation, addition, and subtraction. The math module (included in all standard Python versions) offers <br>\n",
    "expanded functionality like trigonometric functions, root operations, logarithms, and many more. <br>"
   ]
  },
  {
   "cell_type": "markdown",
   "metadata": {},
   "source": [
    "#### 8.1: Division"
   ]
  },
  {
   "cell_type": "markdown",
   "metadata": {},
   "source": [
    "Python does integer division when both operands are integers. The behavior of Python's division operators have <br>\n",
    "changed from Python 2.x and 3.x (see also Integer Division )."
   ]
  },
  {
   "cell_type": "code",
   "execution_count": 1,
   "metadata": {},
   "outputs": [],
   "source": [
    "a, b, c, d, e = 3, 2, 2.0, -3, 10"
   ]
  },
  {
   "cell_type": "markdown",
   "metadata": {},
   "source": [
    "In Python 2 the result of the ' / ' operator depends on the type of the numerator and denominator."
   ]
  },
  {
   "cell_type": "markdown",
   "metadata": {},
   "source": [
    "<table> <tr><th>a / b</th> <th># = 1</th></tr>\n",
    "<tr><th>a / c </th> <th># = 1.5</th></tr>\n",
    "<tr><th>d / b </th> <th># = -2</th></tr>\n",
    "<tr><th>b / a </th> <th># = 0</th></tr>\n",
    "<tr><th>d / e </th> <th># = -1</th></tr>\n"
   ]
  },
  {
   "cell_type": "markdown",
   "metadata": {},
   "source": [
    "Note that because both a and b are <font color = 'green'>int</font>'s, the result is an <font color = 'green'>int</font>. <br>\n",
    "The result is always rounded down (floored). <br>\n",
    "Because c is a float, the result of a / c is a <font color = 'green'>float</font>."
   ]
  },
  {
   "cell_type": "markdown",
   "metadata": {},
   "source": [
    "You can also use the operator module:"
   ]
  },
  {
   "cell_type": "code",
   "execution_count": 7,
   "metadata": {},
   "outputs": [
    {
     "data": {
      "text/plain": [
       "1"
      ]
     },
     "execution_count": 7,
     "metadata": {},
     "output_type": "execute_result"
    }
   ],
   "source": [
    "from __future__ import division # applies Python 3 style division to the entire module\n",
    "a / b # = 1.5\n",
    "a // b # = 1"
   ]
  },
  {
   "cell_type": "markdown",
   "metadata": {},
   "source": [
    "Okay (if you don't want to apply to the whole module):"
   ]
  },
  {
   "cell_type": "code",
   "execution_count": 8,
   "metadata": {},
   "outputs": [
    {
     "data": {
      "text/plain": [
       "1.5"
      ]
     },
     "execution_count": 8,
     "metadata": {},
     "output_type": "execute_result"
    }
   ],
   "source": [
    "a / (b * 1.0) # = 1.5\n",
    "1.0 * a / b # = 1.5\n",
    "a / b * 1.0 # = 1.0 (careful with order of operations)"
   ]
  },
  {
   "cell_type": "code",
   "execution_count": 9,
   "metadata": {},
   "outputs": [
    {
     "data": {
      "text/plain": [
       "1.5"
      ]
     },
     "execution_count": 9,
     "metadata": {},
     "output_type": "execute_result"
    }
   ],
   "source": [
    "from operator import truediv\n",
    "truediv(a, b) # = 1.5"
   ]
  },
  {
   "cell_type": "markdown",
   "metadata": {},
   "source": [
    "The ' // ' operator in Python 2 forces floored division regardless of type"
   ]
  },
  {
   "cell_type": "code",
   "execution_count": 10,
   "metadata": {},
   "outputs": [
    {
     "data": {
      "text/plain": [
       "1.0"
      ]
     },
     "execution_count": 10,
     "metadata": {},
     "output_type": "execute_result"
    }
   ],
   "source": [
    "a // b # = 1\n",
    "a // c # = 1.0"
   ]
  },
  {
   "cell_type": "markdown",
   "metadata": {},
   "source": [
    "In Python 3 the / operator performs 'true' division regardless of types. The // operator performs floor division and <br>\n",
    "maintains type."
   ]
  },
  {
   "cell_type": "code",
   "execution_count": 11,
   "metadata": {},
   "outputs": [
    {
     "data": {
      "text/plain": [
       "1.0"
      ]
     },
     "execution_count": 11,
     "metadata": {},
     "output_type": "execute_result"
    }
   ],
   "source": [
    "a / b # = 1.5\n",
    "e / b # = 5.0\n",
    "a // b # = 1\n",
    "a // c # = 1.0\n",
    "\n",
    "import operator # the operator module provides 2-argument arithmetic functions\n",
    "operator.truediv(a, b) # = 1.5\n",
    "operator.floordiv(a, b) # = 1\n",
    "operator.floordiv(a, c) # = 1.0"
   ]
  },
  {
   "cell_type": "markdown",
   "metadata": {},
   "source": [
    "Possible combinations (builtin types): <br>\n",
    "int and int (gives an int in Python 2 and a float in Python 3) <br>\n",
    "int and float (gives a float) <br>\n",
    "int and complex (gives a complex) <br>\n",
    "float and float (gives a float) <br>\n",
    "float and complex (gives a complex) <br>\n",
    "complex and complex (gives a complex) \n"
   ]
  },
  {
   "cell_type": "markdown",
   "metadata": {},
   "source": [
    "#### 8.2: Addition"
   ]
  },
  {
   "cell_type": "code",
   "execution_count": 12,
   "metadata": {},
   "outputs": [
    {
     "data": {
      "text/plain": [
       "3"
      ]
     },
     "execution_count": 12,
     "metadata": {},
     "output_type": "execute_result"
    }
   ],
   "source": [
    "a, b = 1, 2\n",
    "# Using the \"+\" operator:\n",
    "a + b # = 3"
   ]
  },
  {
   "cell_type": "code",
   "execution_count": 13,
   "metadata": {},
   "outputs": [],
   "source": [
    "# Using the \"in-place\" \"+=\" operator to add and assign:\n",
    "a += b # a = 3 (equivalent to a = a + b)"
   ]
  },
  {
   "cell_type": "code",
   "execution_count": 14,
   "metadata": {},
   "outputs": [],
   "source": [
    "import operator # contains 2 argument arithmetic functions for the examples\n",
    "operator.add(a, b) # = 5 since a is set to 3 right before this line\n",
    "# The \"+=\" operator is equivalent to:\n",
    "a = operator.iadd(a, b) # a = 5 since a is set to 3 right before this line"
   ]
  },
  {
   "cell_type": "markdown",
   "metadata": {},
   "source": [
    "Possible combinations (builtin types):"
   ]
  },
  {
   "cell_type": "markdown",
   "metadata": {},
   "source": [
    "int and int (gives an int) <br>\n",
    "int and float (gives a float) <br>\n",
    "int and complex (gives a complex) <br>\n",
    "float and float (gives a float) <br>\n",
    "float and complex (gives a complex) <br>\n",
    "complex and complex (gives a complex) <br>"
   ]
  },
  {
   "cell_type": "markdown",
   "metadata": {},
   "source": [
    "Note: the + operator is also used for concatenating strings, lists and tuples:"
   ]
  },
  {
   "cell_type": "code",
   "execution_count": null,
   "metadata": {},
   "outputs": [],
   "source": [
    "\"first string \" + \"second string\" # = 'first string second string'\n",
    "[1, 2, 3] + [4, 5, 6] # = [1, 2, 3, 4, 5, 6]"
   ]
  },
  {
   "cell_type": "markdown",
   "metadata": {},
   "source": [
    "#### 8.3: Exponentiation"
   ]
  },
  {
   "cell_type": "code",
   "execution_count": 15,
   "metadata": {},
   "outputs": [
    {
     "data": {
      "text/plain": [
       "8"
      ]
     },
     "execution_count": 15,
     "metadata": {},
     "output_type": "execute_result"
    }
   ],
   "source": [
    "a, b = 2, 3\n",
    "(a ** b) # = 8\n",
    "pow(a, b) # = 8"
   ]
  },
  {
   "cell_type": "code",
   "execution_count": 16,
   "metadata": {},
   "outputs": [
    {
     "data": {
      "text/plain": [
       "8.0"
      ]
     },
     "execution_count": 16,
     "metadata": {},
     "output_type": "execute_result"
    }
   ],
   "source": [
    "import math\n",
    "math.pow(a, b) # = 8.0 (always float; does not allow complex results)"
   ]
  },
  {
   "cell_type": "code",
   "execution_count": 17,
   "metadata": {},
   "outputs": [
    {
     "data": {
      "text/plain": [
       "8"
      ]
     },
     "execution_count": 17,
     "metadata": {},
     "output_type": "execute_result"
    }
   ],
   "source": [
    "import operator\n",
    "operator.pow(a, b) # = 8"
   ]
  },
  {
   "cell_type": "markdown",
   "metadata": {},
   "source": [
    "Another difference between the built-in <font color = 'green'>pow</font> and <font color = 'red'>math</font>.pow is that the built-in <font color = 'green'>pow </font> can accept three arguments:"
   ]
  },
  {
   "cell_type": "code",
   "execution_count": 18,
   "metadata": {},
   "outputs": [
    {
     "data": {
      "text/plain": [
       "0"
      ]
     },
     "execution_count": 18,
     "metadata": {},
     "output_type": "execute_result"
    }
   ],
   "source": [
    "a, b, c = 2, 3, 2\n",
    "pow(2, 3, 2) # 0, calculates (2 ** 3) % 2, but as per Python docs,\n",
    "# does so more efficiently"
   ]
  },
  {
   "cell_type": "markdown",
   "metadata": {},
   "source": [
    "***Special functions***"
   ]
  },
  {
   "cell_type": "markdown",
   "metadata": {},
   "source": [
    "The function <font color = 'red'>math</font>.sqrt(x) calculates the square root of x."
   ]
  },
  {
   "cell_type": "code",
   "execution_count": 19,
   "metadata": {},
   "outputs": [
    {
     "data": {
      "text/plain": [
       "(2+0j)"
      ]
     },
     "execution_count": 19,
     "metadata": {},
     "output_type": "execute_result"
    }
   ],
   "source": [
    "import math\n",
    "import cmath\n",
    "c = 4\n",
    "math.sqrt(c) # = 2.0 (always float; does not allow complex results)\n",
    "cmath.sqrt(c) # = (2+0j) (always complex)"
   ]
  },
  {
   "cell_type": "markdown",
   "metadata": {},
   "source": [
    "To compute other roots, such as a cube root, raise the number to the reciprocal of the degree of the root. This<br>\n",
    "could be done with any of the exponential functions or operator."
   ]
  },
  {
   "cell_type": "code",
   "execution_count": 21,
   "metadata": {},
   "outputs": [
    {
     "data": {
      "text/plain": [
       "2.0"
      ]
     },
     "execution_count": 21,
     "metadata": {},
     "output_type": "execute_result"
    }
   ],
   "source": [
    "import math\n",
    "x = 8\n",
    "math.pow(x, 1/3) # evaluates to 2.0\n",
    "x**(1/3) # evaluates to 2.0"
   ]
  },
  {
   "cell_type": "markdown",
   "metadata": {},
   "source": [
    "The function <font color = 'red'>math</font>.exp(x) computes e ** x"
   ]
  },
  {
   "cell_type": "code",
   "execution_count": 22,
   "metadata": {},
   "outputs": [
    {
     "data": {
      "text/plain": [
       "2.718281828459045"
      ]
     },
     "execution_count": 22,
     "metadata": {},
     "output_type": "execute_result"
    }
   ],
   "source": [
    "math.exp(0) # 1.0\n",
    "math.exp(1) # 2.718281828459045 (e)"
   ]
  },
  {
   "cell_type": "markdown",
   "metadata": {},
   "source": [
    "The function <font color ='red'>math</font>.expm1(x) computes e ** x - <font color ='red'>1</font>. When x is small, this gives significantly better precision than <br>\n",
    "<font color ='red'>math</font>.exp(x) - <font color ='orange'>1</font>."
   ]
  },
  {
   "cell_type": "code",
   "execution_count": 23,
   "metadata": {},
   "outputs": [
    {
     "data": {
      "text/plain": [
       "1.0000005000001665e-06"
      ]
     },
     "execution_count": 23,
     "metadata": {},
     "output_type": "execute_result"
    }
   ],
   "source": [
    "math.expm1(0) # 0.0\n",
    "math.exp(1e-6) - 1 # 1.0000004999621837e-06\n",
    "math.expm1(1e-6) # 1.0000005000001665e-06\n",
    "# exact result # 1.000000500000166666708333341666..."
   ]
  },
  {
   "cell_type": "markdown",
   "metadata": {},
   "source": [
    "#### 8.4: Trigonometric Functions\n"
   ]
  },
  {
   "cell_type": "code",
   "execution_count": 24,
   "metadata": {},
   "outputs": [
    {
     "data": {
      "text/plain": [
       "0.8414709848078965"
      ]
     },
     "execution_count": 24,
     "metadata": {},
     "output_type": "execute_result"
    }
   ],
   "source": [
    "a, b = 1, 2\n",
    "import math\n",
    "math.sin(a) # returns the sine of 'a' in radians\n",
    "# Out: 0.8414709848078965"
   ]
  },
  {
   "cell_type": "code",
   "execution_count": 25,
   "metadata": {},
   "outputs": [
    {
     "data": {
      "text/plain": [
       "3.7621956910836314"
      ]
     },
     "execution_count": 25,
     "metadata": {},
     "output_type": "execute_result"
    }
   ],
   "source": [
    "math.cosh(b) # returns the inverse hyperbolic cosine of 'b' in radians\n",
    "# Out: 3.7621956910836314"
   ]
  },
  {
   "cell_type": "code",
   "execution_count": 26,
   "metadata": {},
   "outputs": [
    {
     "data": {
      "text/plain": [
       "1.2626272556789115"
      ]
     },
     "execution_count": 26,
     "metadata": {},
     "output_type": "execute_result"
    }
   ],
   "source": [
    "math.atan(math.pi) # returns the arc tangent of 'pi' in radians\n",
    "# Out: 1.2626272556789115"
   ]
  },
  {
   "cell_type": "code",
   "execution_count": 27,
   "metadata": {},
   "outputs": [
    {
     "data": {
      "text/plain": [
       "2.23606797749979"
      ]
     },
     "execution_count": 27,
     "metadata": {},
     "output_type": "execute_result"
    }
   ],
   "source": [
    "math.hypot(a, b) # returns the Euclidean norm, same as math.sqrt(a*a + b*b)\n",
    "# Out: 2.23606797749979"
   ]
  },
  {
   "cell_type": "markdown",
   "metadata": {},
   "source": [
    "Note that <font color = 'red'>math</font>.hypot(x, y) is also the length of the vector (or Euclidean distance) from the origin (0, 0) <br>\n",
    "to the point (x, y).<br>\n",
    "\n",
    "To compute the Euclidean distance between two points (x1, y1) & (x2, y2) you can use <font color = 'red'>math</font>.hypot as <br>\n",
    "follows <br>\n",
    "\n",
    "<font color = 'red'>math</font>.hypot(x2-x1, y2-y1)"
   ]
  },
  {
   "cell_type": "markdown",
   "metadata": {},
   "source": [
    "To convert from radians -> degrees and degrees -> radians respectively use <font color = 'red'>math</font>.degrees and <font color = 'red'>math</font>.radians"
   ]
  },
  {
   "cell_type": "code",
   "execution_count": 28,
   "metadata": {},
   "outputs": [
    {
     "data": {
      "text/plain": [
       "57.29577951308232"
      ]
     },
     "execution_count": 28,
     "metadata": {},
     "output_type": "execute_result"
    }
   ],
   "source": [
    "math.degrees(a)\n",
    "# Out: 57.29577951308232"
   ]
  },
  {
   "cell_type": "code",
   "execution_count": 29,
   "metadata": {},
   "outputs": [
    {
     "data": {
      "text/plain": [
       "1.0"
      ]
     },
     "execution_count": 29,
     "metadata": {},
     "output_type": "execute_result"
    }
   ],
   "source": [
    "math.radians(57.29577951308232)\n",
    "# Out: 1.0"
   ]
  },
  {
   "cell_type": "markdown",
   "metadata": {},
   "source": [
    "#### 8.5: Inplace Operations <br>\n",
    "\n",
    "It is common within applications to need to have code like this:\n"
   ]
  },
  {
   "cell_type": "code",
   "execution_count": 30,
   "metadata": {},
   "outputs": [],
   "source": [
    "a = a + 1"
   ]
  },
  {
   "cell_type": "markdown",
   "metadata": {},
   "source": [
    "or"
   ]
  },
  {
   "cell_type": "code",
   "execution_count": 31,
   "metadata": {},
   "outputs": [],
   "source": [
    "a = a + 2"
   ]
  },
  {
   "cell_type": "markdown",
   "metadata": {},
   "source": [
    "There is an effective shortcut for these in place operations:"
   ]
  },
  {
   "cell_type": "code",
   "execution_count": 32,
   "metadata": {},
   "outputs": [],
   "source": [
    "a += 1\n",
    "# and\n",
    "a *= 2"
   ]
  },
  {
   "cell_type": "markdown",
   "metadata": {},
   "source": [
    "Any mathematic operator can be used before the '=' character to make an inplace operation:\n",
    "1.  -= decrement the variable in place\n",
    "2.  += increment the variable in place\n",
    "3.  *= multiply the variable in place\n",
    "4.  /= divide the variable in place\n",
    "5.  //= floor divide the variable in place # Python 3\n",
    "6.  %= return the modulus of the variable in place\n",
    "7.  **= raise to a power in place"
   ]
  },
  {
   "cell_type": "markdown",
   "metadata": {},
   "source": [
    "Other in place operators exist for the bitwise operators (^, | etc)"
   ]
  },
  {
   "cell_type": "markdown",
   "metadata": {},
   "source": [
    "#### 8.6: Subtraction"
   ]
  },
  {
   "cell_type": "code",
   "execution_count": 33,
   "metadata": {},
   "outputs": [
    {
     "data": {
      "text/plain": [
       "1"
      ]
     },
     "execution_count": 33,
     "metadata": {},
     "output_type": "execute_result"
    }
   ],
   "source": [
    "a, b = 1, 2\n",
    "# Using the \"-\" operator:\n",
    "b - a # = 1"
   ]
  },
  {
   "cell_type": "code",
   "execution_count": 34,
   "metadata": {},
   "outputs": [
    {
     "data": {
      "text/plain": [
       "1"
      ]
     },
     "execution_count": 34,
     "metadata": {},
     "output_type": "execute_result"
    }
   ],
   "source": [
    "import operator # contains 2 argument arithmetic functions\n",
    "operator.sub(b, a) # = 1"
   ]
  },
  {
   "cell_type": "markdown",
   "metadata": {},
   "source": [
    "Possible combinations (builtin types): <br>\n",
    "int and int (gives an int) <br>\n",
    "int and float (gives a float) <br>\n",
    "int and complex (gives a complex) <br>\n",
    "float and float (gives a float) <br>\n",
    "float and complex (gives a complex) <br>\n",
    "complex and complex (gives a complex)"
   ]
  },
  {
   "cell_type": "markdown",
   "metadata": {},
   "source": [
    "#### 8.7: Multiplication\n"
   ]
  },
  {
   "cell_type": "code",
   "execution_count": 35,
   "metadata": {},
   "outputs": [
    {
     "data": {
      "text/plain": [
       "6"
      ]
     },
     "execution_count": 35,
     "metadata": {},
     "output_type": "execute_result"
    }
   ],
   "source": [
    "a, b = 2, 3\n",
    "a * b # = 6"
   ]
  },
  {
   "cell_type": "code",
   "execution_count": 36,
   "metadata": {},
   "outputs": [
    {
     "data": {
      "text/plain": [
       "6"
      ]
     },
     "execution_count": 36,
     "metadata": {},
     "output_type": "execute_result"
    }
   ],
   "source": [
    "import operator\n",
    "operator.mul(a, b) # = 6"
   ]
  },
  {
   "cell_type": "markdown",
   "metadata": {},
   "source": [
    "Possible combinations (builtin types): <br>\n",
    "int and int (gives an int) <br>\n",
    "int and float (gives a float) <br>\n",
    "int and complex (gives a complex) <br>\n",
    "float and float (gives a float) <br>\n",
    "float and complex (gives a complex) <br>\n",
    "complex and complex (gives a complex)"
   ]
  },
  {
   "cell_type": "markdown",
   "metadata": {},
   "source": [
    "**Note**: The * operator is also used for repeated concatenation of strings, lists, and tuples:"
   ]
  },
  {
   "cell_type": "code",
   "execution_count": 38,
   "metadata": {},
   "outputs": [
    {
     "data": {
      "text/plain": [
       "'ababab'"
      ]
     },
     "execution_count": 38,
     "metadata": {},
     "output_type": "execute_result"
    }
   ],
   "source": [
    "3 * 'ab' # = 'ababab'"
   ]
  },
  {
   "cell_type": "code",
   "execution_count": 39,
   "metadata": {},
   "outputs": [
    {
     "data": {
      "text/plain": [
       "('a', 'b', 'a', 'b', 'a', 'b')"
      ]
     },
     "execution_count": 39,
     "metadata": {},
     "output_type": "execute_result"
    }
   ],
   "source": [
    "3 * ('a', 'b') # = ('a', 'b', 'a', 'b', 'a', 'b')"
   ]
  },
  {
   "cell_type": "markdown",
   "metadata": {},
   "source": [
    "#### 8.8: Logarithms"
   ]
  },
  {
   "cell_type": "markdown",
   "metadata": {},
   "source": [
    "By default, the <font color = 'red'>math</font>.log function calculates the logarithm of a number, base e. You can optionally specify a base as\n",
    "the second argument."
   ]
  },
  {
   "cell_type": "code",
   "execution_count": 40,
   "metadata": {},
   "outputs": [
    {
     "data": {
      "text/plain": [
       "(2.9999999999999996+0j)"
      ]
     },
     "execution_count": 40,
     "metadata": {},
     "output_type": "execute_result"
    }
   ],
   "source": [
    "math.log(5) # = 1.6094379124341003\n",
    "# optional base argument. Default is math.e\n",
    "math.log(5, math.e) # = 1.6094379124341003\n",
    "cmath.log(5) # = (1.6094379124341003+0j)\n",
    "math.log(1000, 10) # 3.0 (always returns float)\n",
    "cmath.log(1000, 10) # (3+0j)"
   ]
  },
  {
   "cell_type": "markdown",
   "metadata": {},
   "source": [
    "Special variations of the <font color = 'red'>math</font>.log function exist for different bases"
   ]
  },
  {
   "cell_type": "code",
   "execution_count": 41,
   "metadata": {},
   "outputs": [
    {
     "data": {
      "text/plain": [
       "(2+0j)"
      ]
     },
     "execution_count": 41,
     "metadata": {},
     "output_type": "execute_result"
    }
   ],
   "source": [
    "# Logarithm base e - 1 (higher precision for low values)\n",
    "math.log1p(5) # = 1.791759469228055\n",
    "# Logarithm base 2\n",
    "math.log2(8) # = 3.0\n",
    "# Logarithm base 10\n",
    "math.log10(100) # = 2.0\n",
    "cmath.log10(100) # = (2+0j)"
   ]
  },
  {
   "cell_type": "markdown",
   "metadata": {},
   "source": [
    "#### 8.9: Modulus"
   ]
  },
  {
   "cell_type": "markdown",
   "metadata": {},
   "source": [
    "Like in many other languages, Python uses the % operator for calculating modulus."
   ]
  },
  {
   "cell_type": "code",
   "execution_count": 42,
   "metadata": {},
   "outputs": [
    {
     "data": {
      "text/plain": [
       "2"
      ]
     },
     "execution_count": 42,
     "metadata": {},
     "output_type": "execute_result"
    }
   ],
   "source": [
    "3 % 4 # 3\n",
    "10 % 2 # 0\n",
    "6 % 4 # 2"
   ]
  },
  {
   "cell_type": "markdown",
   "metadata": {},
   "source": [
    "Or by using the <font color = 'red'>operator</font> module:"
   ]
  },
  {
   "cell_type": "code",
   "execution_count": 43,
   "metadata": {},
   "outputs": [
    {
     "data": {
      "text/plain": [
       "2"
      ]
     },
     "execution_count": 43,
     "metadata": {},
     "output_type": "execute_result"
    }
   ],
   "source": [
    "import operator\n",
    "operator.mod(3 , 4) # 3\n",
    "operator.mod(10 , 2) # 0\n",
    "operator.mod(6 , 4) # 2"
   ]
  },
  {
   "cell_type": "markdown",
   "metadata": {},
   "source": [
    "You can also use negative numbers."
   ]
  },
  {
   "cell_type": "code",
   "execution_count": 44,
   "metadata": {},
   "outputs": [
    {
     "data": {
      "text/plain": [
       "-2"
      ]
     },
     "execution_count": 44,
     "metadata": {},
     "output_type": "execute_result"
    }
   ],
   "source": [
    "-9 % 7 # 5\n",
    "9 % -7 # -5\n",
    "-9 % -7 # -2"
   ]
  },
  {
   "cell_type": "markdown",
   "metadata": {},
   "source": [
    "If you need to find the result of integer division and modulus, you can use the <font color = 'green'>divmod</font> function as a shortcut:\n"
   ]
  },
  {
   "cell_type": "code",
   "execution_count": 45,
   "metadata": {},
   "outputs": [],
   "source": [
    "quotient, remainder = divmod(9, 4)\n",
    "# quotient = 2, remainder = 1 as 4 * 2 + 1 == 9"
   ]
  },
  {
   "cell_type": "code",
   "execution_count": null,
   "metadata": {},
   "outputs": [],
   "source": []
  }
 ],
 "metadata": {
  "kernelspec": {
   "display_name": "Python 3.10.4 64-bit",
   "language": "python",
   "name": "python3"
  },
  "language_info": {
   "codemirror_mode": {
    "name": "ipython",
    "version": 3
   },
   "file_extension": ".py",
   "mimetype": "text/x-python",
   "name": "python",
   "nbconvert_exporter": "python",
   "pygments_lexer": "ipython3",
   "version": "3.10.4"
  },
  "orig_nbformat": 4,
  "vscode": {
   "interpreter": {
    "hash": "cddf2645a6a3ab2d03dc52c73588f8603eb596e75ff57e7d6cdffdd4fb718815"
   }
  }
 },
 "nbformat": 4,
 "nbformat_minor": 2
}
