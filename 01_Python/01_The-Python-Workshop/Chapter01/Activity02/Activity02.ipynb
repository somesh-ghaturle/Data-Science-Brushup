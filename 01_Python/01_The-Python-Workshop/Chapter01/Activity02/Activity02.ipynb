{
 "cells": [
  {
   "cell_type": "code",
   "execution_count": 1,
   "metadata": {},
   "outputs": [
    {
     "data": {
      "text/plain": [
       "'\\nThis document determines the Pythagorean Distance\\nbetween three given points\\n'"
      ]
     },
     "execution_count": 1,
     "metadata": {},
     "output_type": "execute_result"
    }
   ],
   "source": [
    "\"\"\"\n",
    "This document determines the Pythagorean Distance\n",
    "between three given points\n",
    "\"\"\""
   ]
  },
  {
   "cell_type": "code",
<<<<<<< HEAD
   "execution_count": 2,
=======
   "execution_count": 3,
>>>>>>> 1655f775f005388d070c0399d88e0f456bba7d45
   "metadata": {},
   "outputs": [],
   "source": [
    "# Initialize variables\n",
    "x, y, z = 2, 3, 4"
   ]
  },
  {
   "cell_type": "code",
<<<<<<< HEAD
   "execution_count": 3,
=======
   "execution_count": 4,
>>>>>>> 1655f775f005388d070c0399d88e0f456bba7d45
   "metadata": {},
   "outputs": [],
   "source": [
    "# Pythagorean Theorem in 3 dimensions\n",
    "w_squared = x**2 + y**2 + z**2"
   ]
  },
  {
   "cell_type": "code",
<<<<<<< HEAD
   "execution_count": 4,
=======
   "execution_count": 5,
>>>>>>> 1655f775f005388d070c0399d88e0f456bba7d45
   "metadata": {},
   "outputs": [],
   "source": [
    "# The square root gives the distance\n",
    "w = w_squared ** 0.5"
   ]
  },
  {
   "cell_type": "code",
<<<<<<< HEAD
   "execution_count": 5,
=======
   "execution_count": 6,
>>>>>>> 1655f775f005388d070c0399d88e0f456bba7d45
   "metadata": {},
   "outputs": [
    {
     "data": {
      "text/plain": [
       "5.385164807134504"
      ]
     },
<<<<<<< HEAD
     "execution_count": 5,
=======
     "execution_count": 6,
>>>>>>> 1655f775f005388d070c0399d88e0f456bba7d45
     "metadata": {},
     "output_type": "execute_result"
    }
   ],
   "source": [
    "#Show the distance\n",
    "w   "
   ]
<<<<<<< HEAD
=======
  },
  {
   "cell_type": "code",
   "execution_count": null,
   "metadata": {},
   "outputs": [],
   "source": []
>>>>>>> 1655f775f005388d070c0399d88e0f456bba7d45
  }
 ],
 "metadata": {
  "kernelspec": {
   "display_name": "Python 3",
   "language": "python",
   "name": "python3"
  },
  "language_info": {
   "codemirror_mode": {
    "name": "ipython",
    "version": 3
   },
   "file_extension": ".py",
   "mimetype": "text/x-python",
   "name": "python",
   "nbconvert_exporter": "python",
   "pygments_lexer": "ipython3",
<<<<<<< HEAD
   "version": "3.10.8"
=======
   "version": "3.7.3"
>>>>>>> 1655f775f005388d070c0399d88e0f456bba7d45
  }
 },
 "nbformat": 4,
 "nbformat_minor": 2
}
