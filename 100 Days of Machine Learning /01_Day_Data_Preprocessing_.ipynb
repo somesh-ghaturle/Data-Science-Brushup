{
  "nbformat": 4,
  "nbformat_minor": 0,
  "metadata": {
    "colab": {
      "name": "01- Day - Data Preprocessing .ipynb",
      "provenance": [],
      "collapsed_sections": [],
      "authorship_tag": "ABX9TyPyxW4nQ+Us+B8Jcwmfae3W"
    },
    "kernelspec": {
      "name": "python3",
      "display_name": "Python 3"
    },
    "language_info": {
      "name": "python"
    }
  },
  "cells": [
    {
      "cell_type": "markdown",
      "source": [
        "#### Step 1 :Importing the Libarary"
      ],
      "metadata": {
        "id": "Wfctggm_jT7N"
      }
    },
    {
      "cell_type": "code",
      "source": [
        "import numpy as np \n",
        "import pandas as pd"
      ],
      "metadata": {
        "id": "vb2qLq4KjTVN"
      },
      "execution_count": 1,
      "outputs": []
    },
    {
      "cell_type": "markdown",
      "source": [
        "#### Step 2 : Importing the Dataset"
      ],
      "metadata": {
        "id": "aMzsoT1QjfOm"
      }
    },
    {
      "cell_type": "code",
      "execution_count": null,
      "metadata": {
        "id": "1pNIe6VmiKAv"
      },
      "outputs": [],
      "source": [
        "dataset = pd.read_csv('/content/Data.csv')\n"
      ]
    }
  ]
}