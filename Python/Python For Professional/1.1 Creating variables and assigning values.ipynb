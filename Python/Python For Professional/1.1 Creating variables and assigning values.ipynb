{
 "cells": [
  {
   "cell_type": "code",
   "execution_count": null,
   "metadata": {},
   "outputs": [],
   "source": [
    "# Integer\n",
    "a = 2\n",
    "print(a)\n",
    "# Output: 2\n",
    "# Integer\n",
    "b = 9223372036854775807\n",
    "print(b)\n",
    "# Output: 9223372036854775807\n",
    "# Floating point\n",
    "pi = 3.14\n",
    "print(pi)\n",
    "# Output: 3.14\n",
    "# String\n",
    "c = 'A'\n",
    "print(c)\n",
    "# Output: A\n",
    "# String\n",
    "name = 'John Doe'\n",
    "print(name)\n",
    "# Output: John Doe\n",
    "# Boolean\n",
    "q = True\n",
    "print(q)\n",
    "# Output: True\n",
    "# Empty value or null data type\n",
    "x = None\n",
    "print(x)\n",
    "# Output: None"
   ]
  },
  {
   "cell_type": "code",
   "execution_count": 1,
   "metadata": {},
   "outputs": [
    {
     "name": "stdout",
     "output_type": "stream",
     "text": [
      "['False', 'None', 'True', 'and', 'as', 'assert', 'async', 'await', 'break', 'class', 'continue', 'def', 'del', 'elif', 'else', 'except', 'finally', 'for', 'from', 'global', 'if', 'import', 'in', 'is', 'lambda', 'nonlocal', 'not', 'or', 'pass', 'raise', 'return', 'try', 'while', 'with', 'yield']\n"
     ]
    }
   ],
   "source": [
    "# You can not use python's keywords as a valid variable name. You can see the list of keyword by:\n",
    "import keyword\n",
    "print(keyword.kwlist)"
   ]
  },
  {
   "cell_type": "code",
   "execution_count": null,
   "metadata": {},
   "outputs": [],
   "source": [
    "# You can assign multiple values to multiple variables in one line. Note that there must be the same number of arguments on the right and left sides of the = operator:\n",
    "a, b, c = 1, 2, 3\n",
    "print(a, b, c)\n",
    "# Output: 1 2 3"
   ]
  }
 ],
 "metadata": {
  "kernelspec": {
   "display_name": "Python 3.10.4 64-bit",
   "language": "python",
   "name": "python3"
  },
  "language_info": {
   "codemirror_mode": {
    "name": "ipython",
    "version": 3
   },
   "file_extension": ".py",
   "mimetype": "text/x-python",
   "name": "python",
   "nbconvert_exporter": "python",
   "pygments_lexer": "ipython3",
   "version": "3.10.4"
  },
  "orig_nbformat": 4,
  "vscode": {
   "interpreter": {
    "hash": "cddf2645a6a3ab2d03dc52c73588f8603eb596e75ff57e7d6cdffdd4fb718815"
   }
  }
 },
 "nbformat": 4,
 "nbformat_minor": 2
}
