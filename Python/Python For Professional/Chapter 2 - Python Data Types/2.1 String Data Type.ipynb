{
 "cells": [
  {
   "cell_type": "markdown",
   "metadata": {},
   "source": [
    "#### 2.1: String Data Type"
   ]
  },
  {
   "cell_type": "markdown",
   "metadata": {},
   "source": [
    "String are identified as a contiguous set of characters represented in the quotation marks. Python allows for either<br>\n",
    "pairs of single or double quotes. Strings are immutable sequence data type, i.e each time one makes any changes<br>\n",
    "to a string, completely new string object is created."
   ]
  },
  {
   "cell_type": "code",
   "execution_count": 1,
   "metadata": {},
   "outputs": [
    {
     "name": "stdout",
     "output_type": "stream",
     "text": [
      "Hello World\n",
      "H\n",
      "Hello\n"
     ]
    }
   ],
   "source": [
    "a_str = 'Hello World'\n",
    "print(a_str) #output will be whole string. Hello World\n",
    "print(a_str[0]) #output will be first character. H\n",
    "print(a_str[0:5]) #output will be first five characters. Hello"
   ]
  },
  {
   "cell_type": "markdown",
   "metadata": {},
   "source": [
    "#### 2.2: Set Data Types\n"
   ]
  },
  {
   "cell_type": "markdown",
   "metadata": {},
   "source": [
    "Sets are unordered collections of unique objects, there are two types of set:"
   ]
  },
  {
   "cell_type": "markdown",
   "metadata": {},
   "source": [
    "1. Sets - They are mutable and new elements can be added once sets are defined"
   ]
  },
  {
   "cell_type": "code",
   "execution_count": 2,
   "metadata": {},
   "outputs": [
    {
     "name": "stdout",
     "output_type": "stream",
     "text": [
      "{'apple', 'pear', 'orange', 'banana'}\n",
      "{'a', 'r', 'c', 'b', 'd'}\n",
      "{'a', 'r', 'c', 'z', 'b', 'd'}\n"
     ]
    }
   ],
   "source": [
    "basket = {'apple', 'orange', 'apple', 'pear', 'orange', 'banana'}\n",
    "print(basket) # duplicates will be removed\n",
    "#> {'orange', 'banana', 'pear', 'apple'}\n",
    "a = set('abracadabra')\n",
    "print(a) # unique letters in a\n",
    "#> {'a', 'r', 'b', 'c', 'd'}\n",
    "a.add('z')\n",
    "print(a)\n",
    "#> {'a', 'c', 'r', 'b', 'z', 'd'}"
   ]
  },
  {
   "cell_type": "markdown",
   "metadata": {},
   "source": [
    "2. Frozen Sets - They are immutable and new elements cannot added after its defined."
   ]
  },
  {
   "cell_type": "code",
   "execution_count": 4,
   "metadata": {},
   "outputs": [
    {
     "name": "stdout",
     "output_type": "stream",
     "text": [
      "frozenset({'a', 'f', 's', 'g', 'd'})\n",
      "frozenset({'Freiburg', 'Basel', 'Frankfurt'})\n"
     ]
    }
   ],
   "source": [
    "b = frozenset('asdfagsa')\n",
    "print(b)\n",
    "#> frozenset({'f', 'g', 'd', 'a', 's'})\n",
    "cities = frozenset([\"Frankfurt\", \"Basel\",\"Freiburg\"])\n",
    "print(cities)\n",
    "#> frozenset({'Frankfurt', 'Basel', 'Freiburg'})"
   ]
  },
  {
   "cell_type": "markdown",
   "metadata": {},
   "source": [
    "#### 2.3: Numbers data type\n"
   ]
  },
  {
   "cell_type": "markdown",
   "metadata": {},
   "source": [
    "Numbers have four types in Python. Int, float, complex, and long."
   ]
  },
  {
   "cell_type": "code",
   "execution_count": 8,
   "metadata": {},
   "outputs": [],
   "source": [
    "int_num = 10 #int value\n",
    "float_num = 10.2 #float value\n",
    "complex_num = 3.14j #complex value\n",
    "long_num = 1234567 #long value #The long() function is no longer supported by Python 3 : \n",
    "# Long: Integer type with unlimited length. In python 2.2 and later, Ints are automatically turned into long ints when they overflow"
   ]
  },
  {
   "cell_type": "markdown",
   "metadata": {},
   "source": [
    "#### 2.4: List Data Type"
   ]
  },
  {
   "cell_type": "markdown",
   "metadata": {},
   "source": [
    "A list contains items separated by commas and enclosed within square brackets [].lists are almost similar to arrays<br>\n",
    "in C. One difference is that all the items belonging to a list can be of different data type."
   ]
  },
  {
   "cell_type": "code",
   "execution_count": 9,
   "metadata": {},
   "outputs": [
    {
     "name": "stdout",
     "output_type": "stream",
     "text": [
      "[123, 'abcd', 10.2, 'd']\n",
      "[123, 'abcd']\n",
      "['hello', 'world', 'hello', 'world']\n",
      "[123, 'abcd', 10.2, 'd', 'hello', 'world']\n"
     ]
    },
    {
     "data": {
      "text/plain": [
       "[123, 'abcd', 10.2, 'd', 'hello', 'world']"
      ]
     },
     "execution_count": 9,
     "metadata": {},
     "output_type": "execute_result"
    }
   ],
   "source": [
    "list = [123,'abcd',10.2,'d'] #can be an array of any data type or single data type.\n",
    "list1 = ['hello','world']\n",
    "print(list) #will output whole list. [123,'abcd',10.2,'d']\n",
    "print(list[0:2]) #will output first two element of list. [123,'abcd']\n",
    "print(list1 * 2) #will gave list1 two times. ['hello','world','hello','world']\n",
    "print(list + list1) #will gave concatenation of both the lists.\n",
    "[123,'abcd',10.2,'d','hello','world']"
   ]
  },
  {
   "cell_type": "markdown",
   "metadata": {},
   "source": [
    "#### 2.5: Dictionary Data Type"
   ]
  },
  {
   "cell_type": "markdown",
   "metadata": {},
   "source": [
    "Dictionary consists of key-value pairs. It is enclosed by curly braces {} and values can be assigned and accessed<br>\n",
    "using square brackets[]."
   ]
  },
  {
   "cell_type": "code",
   "execution_count": 10,
   "metadata": {},
   "outputs": [
    {
     "name": "stdout",
     "output_type": "stream",
     "text": [
      "{'name': 'red', 'age': 10}\n",
      "red\n",
      "dict_values(['red', 10])\n",
      "dict_keys(['name', 'age'])\n"
     ]
    }
   ],
   "source": [
    "dic={'name':'red','age':10}\n",
    "print(dic) #will output all the key-value pairs. {'name':'red','age':10}\n",
    "print(dic['name']) #will output only value with 'name' key. 'red'\n",
    "print(dic.values()) #will output list of values in dic. ['red',10]\n",
    "print(dic.keys()) #will output list of keys. ['name','age']"
   ]
  },
  {
   "cell_type": "markdown",
   "metadata": {},
   "source": [
    "#### 2.6: Tuple Data Type"
   ]
  },
  {
   "cell_type": "markdown",
   "metadata": {},
   "source": [
    "Lists are enclosed in brackets [ ] and their elements and size can be changed, while tuples are enclosed in <br>\n",
    "parentheses ( ) and cannot be updated. Tuples are immutable."
   ]
  },
  {
   "cell_type": "code",
   "execution_count": 16,
   "metadata": {},
   "outputs": [
    {
     "name": "stdout",
     "output_type": "stream",
     "text": [
      "(123, 'hello')\n",
      "123\n",
      "(123, 'hello', 'world')\n"
     ]
    },
    {
     "ename": "TypeError",
     "evalue": "'tuple' object does not support item assignment",
     "output_type": "error",
     "traceback": [
      "\u001b[1;31m---------------------------------------------------------------------------\u001b[0m",
      "\u001b[1;31mTypeError\u001b[0m                                 Traceback (most recent call last)",
      "Cell \u001b[1;32mIn [16], line 6\u001b[0m\n\u001b[0;32m      4\u001b[0m \u001b[38;5;28mprint\u001b[39m(tuple1[\u001b[38;5;241m0\u001b[39m]) \u001b[38;5;66;03m#will output first value. (123)\u001b[39;00m\n\u001b[0;32m      5\u001b[0m \u001b[38;5;28mprint\u001b[39m(tuple1 \u001b[38;5;241m+\u001b[39m tuple2) \u001b[38;5;66;03m#will output (123,'hello','world')\u001b[39;00m\n\u001b[1;32m----> 6\u001b[0m \u001b[43mtuple1\u001b[49m\u001b[43m[\u001b[49m\u001b[38;5;241;43m1\u001b[39;49m\u001b[43m]\u001b[49m\u001b[38;5;241m=\u001b[39m\u001b[38;5;124m'\u001b[39m\u001b[38;5;124mupdate\u001b[39m\u001b[38;5;124m'\u001b[39m\n",
      "\u001b[1;31mTypeError\u001b[0m: 'tuple' object does not support item assignment"
     ]
    }
   ],
   "source": [
    "tuple1 = (123,'hello')\n",
    "tuple2 = ('world',)\n",
    "print(tuple1) #will output whole tuple. (123,'hello')\n",
    "print(tuple1[0]) #will output first value. (123)\n",
    "print(tuple1 + tuple2) #will output (123,'hello','world')\n",
    "tuple1[1]='update' #this will give you error."
   ]
  },
  {
   "cell_type": "code",
   "execution_count": null,
   "metadata": {},
   "outputs": [],
   "source": []
  }
 ],
 "metadata": {
  "kernelspec": {
   "display_name": "Python 3.10.4 64-bit",
   "language": "python",
   "name": "python3"
  },
  "language_info": {
   "codemirror_mode": {
    "name": "ipython",
    "version": 3
   },
   "file_extension": ".py",
   "mimetype": "text/x-python",
   "name": "python",
   "nbconvert_exporter": "python",
   "pygments_lexer": "ipython3",
   "version": "3.10.4"
  },
  "orig_nbformat": 4,
  "vscode": {
   "interpreter": {
    "hash": "cddf2645a6a3ab2d03dc52c73588f8603eb596e75ff57e7d6cdffdd4fb718815"
   }
  }
 },
 "nbformat": 4,
 "nbformat_minor": 2
}
