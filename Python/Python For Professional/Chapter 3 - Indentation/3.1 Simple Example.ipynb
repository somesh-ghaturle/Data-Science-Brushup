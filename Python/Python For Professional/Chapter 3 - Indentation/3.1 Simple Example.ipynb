{
 "cells": [
  {
   "cell_type": "markdown",
   "metadata": {},
   "source": [
    "#### 3.1: Simple example\n"
   ]
  },
  {
   "cell_type": "markdown",
   "metadata": {},
   "source": [
    "For Python, Guido van Rossum based the grouping of statements on indentation. The reasons for this are explained<br>\n",
    "in the first section of the \"Design and History Python FAQ\". Colons, :, are used to declare an indented code block,<br>\n",
    "such as the following example:"
   ]
  },
  {
   "cell_type": "code",
   "execution_count": null,
   "metadata": {},
   "outputs": [],
   "source": [
    "class ExampleClass:\n",
    " #Every function belonging to a class must be indented equally\n",
    " def __init__(self):\n",
    " name = \"example\"\n",
    " def someFunction(self, a):\n",
    " #Notice everything belonging to a function must be indented\n",
    " if a > 5:\n",
    " return True\n",
    " else:\n",
    " return False\n",
    "#If a function is not indented to the same level it will not be considers as part of the parent class\n",
    "def separateFunction(b):\n",
    " for i in b:\n",
    " #Loops are also indented and nested conditions start a new indentation\n",
    " if i == 1:\n",
    " return True\n",
    " return False\n",
    "separateFunction([2,3,5,6,1])"
   ]
  },
  {
   "cell_type": "markdown",
   "metadata": {},
   "source": [
    "**Spaces or Tabs?**<br>\n",
    "The recommended indentation is 4 spaces but tabs or spaces can be used so long as they are consistent. **Do not <br>\n",
    "mix tabs and spaces in Python** as this will cause an error in Python 3 and can causes errors in Python 2."
   ]
  },
  {
   "cell_type": "markdown",
   "metadata": {},
   "source": [
    "#### 3.2: How Indentation is Parsed"
   ]
  },
  {
   "cell_type": "markdown",
   "metadata": {},
   "source": [
    "Whitespace is handled by the lexical analyzer before being parsed.<br><pr>\n",
    "\n",
    "The lexical analyzer uses a stack to store indentation levels. At the beginning, the stack contains just the value 0,<br>\n",
    "which is the leftmost position. Whenever a nested block begins, the new indentation level is pushed on the stack,<br>\n",
    "and an \"INDENT\" token is inserted into the token stream which is passed to the parser. There can never be more<br>\n",
    "than one \"INDENT\" token in a row (IndentationError).<br><pr>\n",
    "\n",
    "When a line is encountered with a smaller indentation level, values are popped from the stack until a value is on top<br>\n",
    "which is equal to the new indentation level (if none is found, a syntax error occurs). For each value popped, a<br>\n",
    "\"DEDENT\" token is generated. Obviously, there can be multiple \"DEDENT\" tokens in a row.<br><pr>\n",
    "\n",
    "The lexical analyzer skips empty lines (those containing only whitespace and possibly comments), and will never<br>\n",
    "generate either \"INDENT\" or \"DEDENT\" tokens for them.<br>\n",
    "\n",
    "At the end of the source code, \"DEDENT\" tokens are generated for each indentation level left on the stack, until just<br>\n",
    "the 0 is left.<br>"
   ]
  },
  {
   "cell_type": "markdown",
   "metadata": {},
   "source": [
    "For Example : "
   ]
  },
  {
   "cell_type": "code",
   "execution_count": null,
   "metadata": {},
   "outputs": [],
   "source": [
    "if foo:\n",
    "    if bar:\n",
    "        x = 42\n",
    "else:\n",
    "    print(foo)"
   ]
  },
  {
   "cell_type": "markdown",
   "metadata": {},
   "source": [
    "is analyzed as:"
   ]
  },
  {
   "cell_type": "code",
   "execution_count": null,
   "metadata": {},
   "outputs": [],
   "source": [
    "<if> <foo> <:> [0]\n",
    "<INDENT> <if> <bar> <:> [0, 4]\n",
    "<INDENT> <x> <=> <42> [0, 4, 8]\n",
    "<DEDENT> <DEDENT> <else> <:> [0]\n",
    "<INDENT> <print> <foo> [0, 2]\n",
    "<DEDENT>"
   ]
  }
 ],
 "metadata": {
  "kernelspec": {
   "display_name": "Python 3.10.4 64-bit",
   "language": "python",
   "name": "python3"
  },
  "language_info": {
   "codemirror_mode": {
    "name": "ipython",
    "version": 3
   },
   "file_extension": ".py",
   "mimetype": "text/x-python",
   "name": "python",
   "nbconvert_exporter": "python",
   "pygments_lexer": "ipython3",
   "version": "3.10.4"
  },
  "orig_nbformat": 4,
  "vscode": {
   "interpreter": {
    "hash": "cddf2645a6a3ab2d03dc52c73588f8603eb596e75ff57e7d6cdffdd4fb718815"
   }
  }
 },
 "nbformat": 4,
 "nbformat_minor": 2
}
