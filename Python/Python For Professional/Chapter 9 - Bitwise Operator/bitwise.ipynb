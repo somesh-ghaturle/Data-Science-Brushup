{
 "cells": [
  {
   "cell_type": "markdown",
   "metadata": {},
   "source": [
    "Bitwise operations alter binary strings at the bit level. These operations are incredibly basic and are directly <br>\n",
    "supported by the processor. These few operations are necessary in working with device drivers, low-level graphics, <br>\n",
    "cryptography, and network communications. This section provides useful knowledge and examples of Python's <br>\n",
    "bitwise operators"
   ]
  },
  {
   "cell_type": "markdown",
   "metadata": {},
   "source": [
    "#### 9.1: Bitwise NOT"
   ]
  },
  {
   "cell_type": "markdown",
   "metadata": {},
   "source": [
    "The ~ operator will flip all of the bits in the number. Since computers use signed number representations — most <br>\n",
    "notably, the two's complement notation to encode negative binary numbers where negative numbers are written<br>\n",
    "with a leading one (1) instead of a leading zero (0).<br>\n",
    "\n",
    "This means that if you were using 8 bits to represent your two's-complement numbers, you would treat patterns<br>\n",
    "from 0000 0000 to 0111 1111 to represent numbers from 0 to 127 and reserve 1xxx xxxx to represent negative<br>\n",
    "numbers.<br>\n",
    "\n",
    "Eight-bit two's-complement numbers\n"
   ]
  },
  {
   "cell_type": "markdown",
   "metadata": {},
   "source": [
    "<table> <tr> <th>Bits</th> <th>Unsigned Value</th> <th>Two's-complement Value</th> </tr>\n",
    "<tr> <th>0000 0000</th> <th> 0</th> <th> 0</th> </tr>\n",
    "<tr> <th>0000 0001</th> <th> 1</th> <th> 1</th> </tr>\n",
    "<tr> <th>0000 0010</th> <th> 2</th> <th> 2</th> </tr>\n",
    "<tr> <th>0111 1110</th> <th> 126</th> <th> 126</th> </tr>\n",
    "<tr> <th>0111 1111</th> <th> 127</th> <th> 127</th> </tr>\n",
    "<tr> <th>1000 0000</th> <th> 128</th> <th> -128</th> </tr>\n",
    "<tr> <th>1000 0001</th> <th> 129</th> <th> -127</th> </tr>\n",
    "<tr> <th>1000 0010</th> <th> 130</th> <th> -126</th> </tr>\n",
    "<tr> <th>1111 1110</th> <th> 254</th> <th> -2</th> </tr>\n",
    "<tr> <th>1111 1111</th> <th> 255</th> <th> -1</th> </tr> </table>"
   ]
  },
  {
   "cell_type": "markdown",
   "metadata": {},
   "source": [
    "In essence, this means that whereas 1010 0110 has an unsigned value of 166 (arrived at by adding (128 * 1) + <br>\n",
    "(64 * 0) + (32 * 1) + (16 * 0) + (8 * 0) + (4 * 1) + (2 * 1) + (1 * 0)), it has a two's-complement value<br>\n",
    "of -90 (arrived at by adding (128 * 1) - (64 * 0) - (32 * 1) - (16 * 0) - (8 * 0) - (4 * 1) - (2 * 1) -<br>\n",
    "(1 * 0), and complementing the value).<br>\n",
    "\n",
    "In this way, negative numbers range down to -128 (1000 0000). Zero (0) is represented as 0000 0000, and minus<br>\n",
    "one (-1) as 1111 1111.<br>\n",
    "\n",
    "In general, though, this means ~n = -n - 1."
   ]
  },
  {
   "cell_type": "code",
   "execution_count": 1,
   "metadata": {},
   "outputs": [
    {
     "data": {
      "text/plain": [
       "-1"
      ]
     },
     "execution_count": 1,
     "metadata": {},
     "output_type": "execute_result"
    }
   ],
   "source": [
    "# 0 = 0b0000 0000\n",
    "~0\n",
    "# Out: -1\n",
    "# -1 = 0b1111 1111"
   ]
  },
  {
   "cell_type": "code",
   "execution_count": 2,
   "metadata": {},
   "outputs": [
    {
     "data": {
      "text/plain": [
       "-2"
      ]
     },
     "execution_count": 2,
     "metadata": {},
     "output_type": "execute_result"
    }
   ],
   "source": [
    "# 1 = 0b0000 0001\n",
    "~1\n",
    "# Out: -2\n",
    "# -2 = 1111 1110"
   ]
  },
  {
   "cell_type": "code",
   "execution_count": 3,
   "metadata": {},
   "outputs": [
    {
     "data": {
      "text/plain": [
       "-3"
      ]
     },
     "execution_count": 3,
     "metadata": {},
     "output_type": "execute_result"
    }
   ],
   "source": [
    "# 2 = 0b0000 0010\n",
    "~2\n",
    "# Out: -3\n",
    "# -3 = 0b1111 1101"
   ]
  },
  {
   "cell_type": "code",
   "execution_count": 4,
   "metadata": {},
   "outputs": [
    {
     "data": {
      "text/plain": [
       "-124"
      ]
     },
     "execution_count": 4,
     "metadata": {},
     "output_type": "execute_result"
    }
   ],
   "source": [
    "# 123 = 0b0111 1011\n",
    "~123\n",
    "# Out: -124\n",
    "# -124 = 0b1000 0100"
   ]
  },
  {
   "cell_type": "markdown",
   "metadata": {},
   "source": [
    "Note, the overall effect of this operation when applied to positive numbers can be summarized: <br>\n",
    "\n",
    "~n -> -|n+1|"
   ]
  },
  {
   "cell_type": "markdown",
   "metadata": {},
   "source": [
    "And then, when applied to negative numbers, the corresponding effect is: <br>\n",
    "\n",
    "~-n -> |n-1|\n"
   ]
  },
  {
   "cell_type": "markdown",
   "metadata": {},
   "source": [
    "The following examples illustrate this last rule..."
   ]
  },
  {
   "cell_type": "code",
   "execution_count": 5,
   "metadata": {},
   "outputs": [
    {
     "data": {
      "text/plain": [
       "-1"
      ]
     },
     "execution_count": 5,
     "metadata": {},
     "output_type": "execute_result"
    }
   ],
   "source": [
    "# -0 = 0b0000 0000\n",
    "~-0\n",
    "# Out: -1\n",
    "# -1 = 0b1111 1111\n",
    "# 0 is the obvious exception to this rule, as -0 == 0 always"
   ]
  },
  {
   "cell_type": "code",
   "execution_count": 6,
   "metadata": {},
   "outputs": [
    {
     "data": {
      "text/plain": [
       "0"
      ]
     },
     "execution_count": 6,
     "metadata": {},
     "output_type": "execute_result"
    }
   ],
   "source": [
    "# -1 = 0b1000 0001\n",
    "~-1\n",
    "# Out: 0\n",
    "# 0 = 0b0000 0000"
   ]
  },
  {
   "cell_type": "code",
   "execution_count": 7,
   "metadata": {},
   "outputs": [
    {
     "data": {
      "text/plain": [
       "1"
      ]
     },
     "execution_count": 7,
     "metadata": {},
     "output_type": "execute_result"
    }
   ],
   "source": [
    "# -2 = 0b1111 1110\n",
    "~-2\n",
    "# Out: 1\n",
    "# 1 = 0b0000 0001"
   ]
  },
  {
   "cell_type": "code",
   "execution_count": 8,
   "metadata": {},
   "outputs": [
    {
     "data": {
      "text/plain": [
       "122"
      ]
     },
     "execution_count": 8,
     "metadata": {},
     "output_type": "execute_result"
    }
   ],
   "source": [
    "# -123 = 0b1111 1011\n",
    "~-123\n",
    "# Out: 122\n",
    "# 122 = 0b0111 1010"
   ]
  },
  {
   "cell_type": "markdown",
   "metadata": {},
   "source": [
    "#### 9.2: Bitwise XOR (Exclusive OR)\n"
   ]
  },
  {
   "cell_type": "markdown",
   "metadata": {},
   "source": [
    "The ^ operator will perform a binary **XOR** in which a binary 1 is copied if and only if it is the value of exactly **one** <br>\n",
    "operand. Another way of stating this is that the result is 1 only if the operands are different. Examples include:"
   ]
  },
  {
   "cell_type": "code",
   "execution_count": 9,
   "metadata": {},
   "outputs": [
    {
     "data": {
      "text/plain": [
       "34"
      ]
     },
     "execution_count": 9,
     "metadata": {},
     "output_type": "execute_result"
    }
   ],
   "source": [
    "# 0 ^ 0 = 0\n",
    "# 0 ^ 1 = 1\n",
    "# 1 ^ 0 = 1\n",
    "# 1 ^ 1 = 0\n",
    "# 60 = 0b111100\n",
    "# 30 = 0b011110\n",
    "60 ^ 30\n",
    "# Out: 34\n",
    "# 34 = 0b100010"
   ]
  },
  {
   "cell_type": "code",
   "execution_count": 10,
   "metadata": {},
   "outputs": [
    {
     "data": {
      "text/plain": [
       "'0b100010'"
      ]
     },
     "execution_count": 10,
     "metadata": {},
     "output_type": "execute_result"
    }
   ],
   "source": [
    "bin(60 ^ 30)\n",
    "# Out: 0b100010"
   ]
  },
  {
   "cell_type": "markdown",
   "metadata": {},
   "source": [
    "#### 9.3: Bitwise AND"
   ]
  },
  {
   "cell_type": "markdown",
   "metadata": {},
   "source": [
    "The & operator will perform a binary **AND**, where a bit is copied if it exists in **both** operands. That means:"
   ]
  },
  {
   "cell_type": "code",
   "execution_count": 11,
   "metadata": {},
   "outputs": [
    {
     "data": {
      "text/plain": [
       "28"
      ]
     },
     "execution_count": 11,
     "metadata": {},
     "output_type": "execute_result"
    }
   ],
   "source": [
    "# 0 & 0 = 0\n",
    "# 0 & 1 = 0\n",
    "# 1 & 0 = 0\n",
    "# 1 & 1 = 1\n",
    "# 60 = 0b111100\n",
    "# 30 = 0b011110\n",
    "60 & 30\n",
    "# Out: 28\n",
    "# 28 = 0b11100\n"
   ]
  },
  {
   "cell_type": "code",
   "execution_count": 12,
   "metadata": {},
   "outputs": [
    {
     "data": {
      "text/plain": [
       "'0b11100'"
      ]
     },
     "execution_count": 12,
     "metadata": {},
     "output_type": "execute_result"
    }
   ],
   "source": [
    "bin(60 & 30)\n",
    "# Out: 0b11100"
   ]
  },
  {
   "cell_type": "markdown",
   "metadata": {},
   "source": [
    "#### 9.4: Bitwise OR"
   ]
  },
  {
   "cell_type": "markdown",
   "metadata": {},
   "source": [
    "The | operator will perform a binary \"or,\" where a bit is copied if it exists in either operand. That means:"
   ]
  },
  {
   "cell_type": "code",
   "execution_count": 13,
   "metadata": {},
   "outputs": [
    {
     "data": {
      "text/plain": [
       "62"
      ]
     },
     "execution_count": 13,
     "metadata": {},
     "output_type": "execute_result"
    }
   ],
   "source": [
    "# 0 | 0 = 0\n",
    "# 0 | 1 = 1\n",
    "# 1 | 0 = 1\n",
    "# 1 | 1 = 1\n",
    "# 60 = 0b111100\n",
    "# 30 = 0b011110\n",
    "60 | 30\n",
    "# Out: 62\n",
    "# 62 = 0b111110"
   ]
  },
  {
   "cell_type": "code",
   "execution_count": 14,
   "metadata": {},
   "outputs": [
    {
     "data": {
      "text/plain": [
       "'0b111110'"
      ]
     },
     "execution_count": 14,
     "metadata": {},
     "output_type": "execute_result"
    }
   ],
   "source": [
    "bin(60 | 30)\n",
    "# Out: 0b111110"
   ]
  },
  {
   "cell_type": "markdown",
   "metadata": {},
   "source": [
    "#### 9.5: Bitwise Left Shift\n"
   ]
  },
  {
   "cell_type": "markdown",
   "metadata": {},
   "source": [
    "The << operator will perform a bitwise \"left shift,\" where the left operand's value is moved left by the number of bits<br>\n",
    "given by the right operand."
   ]
  },
  {
   "cell_type": "code",
   "execution_count": 15,
   "metadata": {},
   "outputs": [
    {
     "data": {
      "text/plain": [
       "8"
      ]
     },
     "execution_count": 15,
     "metadata": {},
     "output_type": "execute_result"
    }
   ],
   "source": [
    "# 2 = 0b10\n",
    "2 << 2\n",
    "# Out: 8\n",
    "# 8 = 0b1000"
   ]
  },
  {
   "cell_type": "code",
   "execution_count": 16,
   "metadata": {},
   "outputs": [
    {
     "data": {
      "text/plain": [
       "'0b1000'"
      ]
     },
     "execution_count": 16,
     "metadata": {},
     "output_type": "execute_result"
    }
   ],
   "source": [
    "bin(2 << 2)\n",
    "# Out: 0b1000"
   ]
  },
  {
   "cell_type": "markdown",
   "metadata": {},
   "source": [
    "Performing a left bit shift of 1 is equivalent to multiplication by 2:"
   ]
  },
  {
   "cell_type": "code",
   "execution_count": 17,
   "metadata": {},
   "outputs": [
    {
     "data": {
      "text/plain": [
       "14"
      ]
     },
     "execution_count": 17,
     "metadata": {},
     "output_type": "execute_result"
    }
   ],
   "source": [
    "7 << 1\n",
    "# Out: 14"
   ]
  },
  {
   "cell_type": "markdown",
   "metadata": {},
   "source": [
    "Performing a left bit shift of n is equivalent to multiplication by 2**n:"
   ]
  },
  {
   "cell_type": "code",
   "execution_count": 18,
   "metadata": {},
   "outputs": [
    {
     "data": {
      "text/plain": [
       "48"
      ]
     },
     "execution_count": 18,
     "metadata": {},
     "output_type": "execute_result"
    }
   ],
   "source": [
    "3 << 4\n",
    "# Out: 48"
   ]
  },
  {
   "cell_type": "markdown",
   "metadata": {},
   "source": [
    "#### 9.6: Bitwise Right Shift"
   ]
  },
  {
   "cell_type": "markdown",
   "metadata": {},
   "source": [
    "The >> operator will perform a bitwise \"right shift,\" where the left operand's value is moved right by the number of <br>\n",
    "bits given by the right operand."
   ]
  },
  {
   "cell_type": "code",
   "execution_count": 19,
   "metadata": {},
   "outputs": [
    {
     "data": {
      "text/plain": [
       "2"
      ]
     },
     "execution_count": 19,
     "metadata": {},
     "output_type": "execute_result"
    }
   ],
   "source": [
    "# 8 = 0b1000\n",
    "8 >> 2\n",
    "# Out: 2\n",
    "# 2 = 0b10"
   ]
  },
  {
   "cell_type": "code",
   "execution_count": 20,
   "metadata": {},
   "outputs": [
    {
     "data": {
      "text/plain": [
       "'0b10'"
      ]
     },
     "execution_count": 20,
     "metadata": {},
     "output_type": "execute_result"
    }
   ],
   "source": [
    "bin(8 >> 2)\n",
    "# Out: 0b10"
   ]
  },
  {
   "cell_type": "markdown",
   "metadata": {},
   "source": [
    "Performing a right bit shift of 1 is equivalent to integer division by 2:"
   ]
  },
  {
   "cell_type": "code",
   "execution_count": 21,
   "metadata": {},
   "outputs": [
    {
     "data": {
      "text/plain": [
       "18"
      ]
     },
     "execution_count": 21,
     "metadata": {},
     "output_type": "execute_result"
    }
   ],
   "source": [
    "36 >> 1\n",
    "# Out: 18"
   ]
  },
  {
   "cell_type": "code",
   "execution_count": 22,
   "metadata": {},
   "outputs": [
    {
     "data": {
      "text/plain": [
       "7"
      ]
     },
     "execution_count": 22,
     "metadata": {},
     "output_type": "execute_result"
    }
   ],
   "source": [
    "15 >> 1\n",
    "# Out: 7"
   ]
  },
  {
   "cell_type": "markdown",
   "metadata": {},
   "source": [
    "Performing a right bit shift of n is equivalent to integer division by 2**n:"
   ]
  },
  {
   "cell_type": "code",
   "execution_count": 23,
   "metadata": {},
   "outputs": [
    {
     "data": {
      "text/plain": [
       "3"
      ]
     },
     "execution_count": 23,
     "metadata": {},
     "output_type": "execute_result"
    }
   ],
   "source": [
    "48 >> 4\n",
    "# Out: 3"
   ]
  },
  {
   "cell_type": "code",
   "execution_count": 24,
   "metadata": {},
   "outputs": [
    {
     "data": {
      "text/plain": [
       "7"
      ]
     },
     "execution_count": 24,
     "metadata": {},
     "output_type": "execute_result"
    }
   ],
   "source": [
    "59 >> 3\n",
    "# Out: 7"
   ]
  },
  {
   "cell_type": "markdown",
   "metadata": {},
   "source": [
    "#### 9.7: Inplace Operations"
   ]
  },
  {
   "cell_type": "markdown",
   "metadata": {},
   "source": [
    "All of the Bitwise operators (except ~) have their own in place versions"
   ]
  },
  {
   "cell_type": "code",
   "execution_count": 25,
   "metadata": {},
   "outputs": [],
   "source": [
    "a = 0b001\n",
    "a &= 0b010\n",
    "# a = 0b000"
   ]
  },
  {
   "cell_type": "code",
   "execution_count": 26,
   "metadata": {},
   "outputs": [],
   "source": [
    "a = 0b001\n",
    "a |= 0b010\n",
    "# a = 0b011"
   ]
  },
  {
   "cell_type": "code",
   "execution_count": 27,
   "metadata": {},
   "outputs": [],
   "source": [
    "a = 0b001\n",
    "a <<= 2\n",
    "# a = 0b100\n"
   ]
  },
  {
   "cell_type": "code",
   "execution_count": 28,
   "metadata": {},
   "outputs": [],
   "source": [
    "a = 0b100\n",
    "a >>= 2\n",
    "# a = 0b001"
   ]
  },
  {
   "cell_type": "code",
   "execution_count": 29,
   "metadata": {},
   "outputs": [],
   "source": [
    "a = 0b101\n",
    "a ^= 0b011\n",
    "# a = 0b110"
   ]
  },
  {
   "cell_type": "code",
   "execution_count": null,
   "metadata": {},
   "outputs": [],
   "source": []
  }
 ],
 "metadata": {
  "kernelspec": {
   "display_name": "Python 3.10.4 64-bit",
   "language": "python",
   "name": "python3"
  },
  "language_info": {
   "codemirror_mode": {
    "name": "ipython",
    "version": 3
   },
   "file_extension": ".py",
   "mimetype": "text/x-python",
   "name": "python",
   "nbconvert_exporter": "python",
   "pygments_lexer": "ipython3",
   "version": "3.10.4"
  },
  "orig_nbformat": 4,
  "vscode": {
   "interpreter": {
    "hash": "cddf2645a6a3ab2d03dc52c73588f8603eb596e75ff57e7d6cdffdd4fb718815"
   }
  }
 },
 "nbformat": 4,
 "nbformat_minor": 2
}
