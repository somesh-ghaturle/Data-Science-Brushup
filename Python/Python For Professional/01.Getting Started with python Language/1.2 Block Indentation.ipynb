{
 "cells": [
  {
   "cell_type": "code",
   "execution_count": 1,
   "metadata": {},
   "outputs": [
    {
     "name": "stdout",
     "output_type": "stream",
     "text": [
      "2\n"
     ]
    }
   ],
   "source": [
    "def my_function(): # This is a function definition. Note the colon (:)\n",
    " a = 2 # This line belongs to the function because it's indented\n",
    " return a # This line also belongs to the same function\n",
    "print(my_function()) # This line is OUTSIDE the function block\n"
   ]
  },
  {
   "cell_type": "code",
   "execution_count": 2,
   "metadata": {},
   "outputs": [
    {
     "name": "stdout",
     "output_type": "stream",
     "text": [
      "20\n"
     ]
    }
   ],
   "source": [
    "#OR\n",
    "a , b = 10 , 20\n",
    "if a > b: # If block starts here\n",
    " print(a) # This is part of the if block\n",
    "else: # else must be at the same level as if\n",
    " print(b) # This line is part of the else block\n"
   ]
  },
  {
   "cell_type": "code",
   "execution_count": 3,
   "metadata": {},
   "outputs": [
    {
     "ename": "IndentationError",
     "evalue": "unexpected indent (4218011663.py, line 10)",
     "output_type": "error",
     "traceback": [
      "\u001b[1;36m  Input \u001b[1;32mIn [3]\u001b[1;36m\u001b[0m\n\u001b[1;33m    print(y) # IndentationError: unexpected indent\u001b[0m\n\u001b[1;37m    ^\u001b[0m\n\u001b[1;31mIndentationError\u001b[0m\u001b[1;31m:\u001b[0m unexpected indent\n"
     ]
    }
   ],
   "source": [
    "# Blocks that contain exactly one single-line statement may be put on the same line, though this form is generally not\n",
    "# considered good style:\n",
    "\n",
    "if a > b: print(a)\n",
    "else: print(b)\n",
    "\n",
    "# Attempting to do this with more than a single statement will not work:\n",
    "\n",
    "if x > y: y = x\n",
    " print(y) # IndentationError: unexpected indent\n",
    "if x > y: while y != z: y -= 1 # SyntaxError: invalid syntax\n",
    "# An empty block causes an IndentationError. Use pass (a command that does nothing) when you have a block with\n",
    "# no content:\n",
    "\n",
    "def will_be_implemented_later():\n",
    " pass\n"
   ]
  }
 ],
 "metadata": {
  "kernelspec": {
   "display_name": "Python 3.10.4 64-bit",
   "language": "python",
   "name": "python3"
  },
  "language_info": {
   "codemirror_mode": {
    "name": "ipython",
    "version": 3
   },
   "file_extension": ".py",
   "mimetype": "text/x-python",
   "name": "python",
   "nbconvert_exporter": "python",
   "pygments_lexer": "ipython3",
   "version": "3.10.4"
  },
  "orig_nbformat": 4,
  "vscode": {
   "interpreter": {
    "hash": "cddf2645a6a3ab2d03dc52c73588f8603eb596e75ff57e7d6cdffdd4fb718815"
   }
  }
 },
 "nbformat": 4,
 "nbformat_minor": 2
}
