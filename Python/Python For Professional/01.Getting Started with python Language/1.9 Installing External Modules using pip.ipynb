{
 "cells": [
  {
   "cell_type": "markdown",
   "metadata": {},
   "source": [
    "#### Finding / installing a package"
   ]
  },
  {
   "cell_type": "markdown",
   "metadata": {},
   "source": [
    "Searching for a package is as simple as typing"
   ]
  },
  {
   "cell_type": "code",
   "execution_count": null,
   "metadata": {},
   "outputs": [],
   "source": [
    "!pip search <query>"
   ]
  },
  {
   "cell_type": "markdown",
   "metadata": {},
   "source": [
    "#### Upgrading installed packages\n"
   ]
  },
  {
   "cell_type": "code",
   "execution_count": 1,
   "metadata": {},
   "outputs": [
    {
     "name": "stdout",
     "output_type": "stream",
     "text": [
      "Package                    Version      Latest    Type\n",
      "-------------------------- ------------ --------- -----\n",
      "asttokens                  2.0.8        2.1.0     wheel\n",
      "Automat                    20.2.0       22.10.0   wheel\n",
      "charset-normalizer         2.1.1        3.0.0     wheel\n",
      "colorama                   0.4.5        0.4.6     wheel\n",
      "contourpy                  1.0.5        1.0.6     wheel\n",
      "cryptography               38.0.1       38.0.3    wheel\n",
      "dill                       0.3.5.1      0.3.6     wheel\n",
      "executing                  1.1.1        1.2.0     wheel\n",
      "Faker                      15.1.1       15.3.1    wheel\n",
      "flatbuffers                22.9.24      22.10.26  wheel\n",
      "gast                       0.4.0        0.5.3     wheel\n",
      "google-auth                2.13.0       2.14.0    wheel\n",
      "google-auth-oauthlib       0.4.6        0.7.1     wheel\n",
      "greenlet                   1.1.3.post0  2.0.1     wheel\n",
      "ipykernel                  6.16.1       6.17.0    wheel\n",
      "ipython                    8.5.0        8.6.0     wheel\n",
      "jupyter_client             7.4.3        7.4.4     wheel\n",
      "matplotlib                 3.5.3        3.6.2     wheel\n",
      "numba                      0.56.3       0.56.4    wheel\n",
      "Pillow                     9.2.0        9.3.0     wheel\n",
      "platformdirs               2.5.2        2.5.3     wheel\n",
      "prompt-toolkit             3.0.31       3.0.32    wheel\n",
      "protobuf                   3.19.6       4.21.9    wheel\n",
      "pytz                       2022.5       2022.6    wheel\n",
      "pywin32                    304          305       wheel\n",
      "qiskit-terra               0.22.0       0.22.2    wheel\n",
      "scikit-learn               1.1.2        1.1.3     wheel\n",
      "setuptools                 65.5.0       65.5.1    wheel\n",
      "sklearn                    0.0          0.0.post1 sdist\n",
      "snowflake-connector-python 2.8.0        2.8.1     wheel\n",
      "SQLAlchemy                 1.4.42       1.4.43    wheel\n",
      "stack-data                 0.5.1        0.6.0     wheel\n",
      "statsforecast              1.1.1        1.2.1     wheel\n",
      "statsmodels                0.13.2       0.13.5    wheel\n",
      "termcolor                  2.0.1        2.1.0     wheel\n",
      "torch                      1.12.1+cu116 1.13.0    wheel\n",
      "torchaudio                 0.12.1+cu116 0.13.0    wheel\n",
      "torchvision                0.13.1+cu116 0.14.0    wheel\n",
      "Twisted                    22.8.0       22.10.0   wheel\n",
      "virtualenv                 20.16.5      20.16.6   wheel\n",
      "wheel                      0.37.1       0.38.2    wheel\n",
      "zope.interface             5.5.0        5.5.1     wheel\n"
     ]
    }
   ],
   "source": [
    "!pip list --outdated"
   ]
  },
  {
   "cell_type": "markdown",
   "metadata": {},
   "source": [
    "Updating all outdated packages"
   ]
  },
  {
   "cell_type": "code",
   "execution_count": 2,
   "metadata": {},
   "outputs": [
    {
     "name": "stdout",
     "output_type": "stream",
     "text": [
      "Requirement already satisfied: pipupgrade in c:\\users\\soghatur\\appdata\\local\\programs\\python\\python310\\lib\\site-packages (1.12.0)\n",
      "Requirement already satisfied: bpyutils in c:\\users\\soghatur\\appdata\\local\\programs\\python\\python310\\lib\\site-packages (from pipupgrade) (0.5.8)\n",
      "Requirement already satisfied: pip in c:\\users\\soghatur\\appdata\\local\\programs\\python\\python310\\lib\\site-packages (from pipupgrade) (22.3.1)\n"
     ]
    }
   ],
   "source": [
    "!pip install pipupgrade"
   ]
  },
  {
   "cell_type": "code",
   "execution_count": 5,
   "metadata": {},
   "outputs": [
    {
     "data": {
      "text/plain": [
       "1"
      ]
     },
     "execution_count": 5,
     "metadata": {},
     "output_type": "execute_result"
    }
   ],
   "source": [
    "import pkg_resources\n",
    "from subprocess import call\n",
    "\n",
    "packages = [dist.project_name for dist in pkg_resources.working_set]\n",
    "call(\"pip install --upgrade \" + ' '.join(packages), shell=True)"
   ]
  }
 ],
 "metadata": {
  "kernelspec": {
   "display_name": "Python 3.10.4 64-bit",
   "language": "python",
   "name": "python3"
  },
  "language_info": {
   "codemirror_mode": {
    "name": "ipython",
    "version": 3
   },
   "file_extension": ".py",
   "mimetype": "text/x-python",
   "name": "python",
   "nbconvert_exporter": "python",
   "pygments_lexer": "ipython3",
   "version": "3.10.8"
  },
  "orig_nbformat": 4,
  "vscode": {
   "interpreter": {
    "hash": "cddf2645a6a3ab2d03dc52c73588f8603eb596e75ff57e7d6cdffdd4fb718815"
   }
  }
 },
 "nbformat": 4,
 "nbformat_minor": 2
}
