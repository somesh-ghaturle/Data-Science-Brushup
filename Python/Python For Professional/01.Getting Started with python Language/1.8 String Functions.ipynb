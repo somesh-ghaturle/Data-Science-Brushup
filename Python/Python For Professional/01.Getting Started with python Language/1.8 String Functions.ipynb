{
 "cells": [
  {
   "cell_type": "markdown",
   "metadata": {},
   "source": [
    "There are two functions that can be used to obtain a readable representation of an object. <br>\n",
    "<font color = 'orange' >repr</font>(x) calls x.<font color = 'blue'> __repr__() </font>: a representation of x. <font color = 'green' >eval</font> will usually convert the result of this function back to the<br>\n",
    "original object.<br>\n",
    "<font color = 'green' >str</font>(x) calls x.__str__(): a human-readable string that describes the object. This may elide some technical detail."
   ]
  },
  {
   "cell_type": "markdown",
   "metadata": {},
   "source": [
    "##### repr()"
   ]
  },
  {
   "cell_type": "markdown",
   "metadata": {},
   "source": [
    "For many types, this function makes an attempt to return a string that would yield an object with the same value<br>\n",
    "when passed to <font color = 'green'>eval</font>(). Otherwise, the representation is a string enclosed in angle brackets that contains the name<br>\n",
    "of the type of the object along with additional information. This often includes the name and address of the object."
   ]
  },
  {
   "cell_type": "markdown",
   "metadata": {},
   "source": [
    "##### str()"
   ]
  },
  {
   "cell_type": "markdown",
   "metadata": {},
   "source": [
    "For strings, this returns the string itself. The difference between this and <font color = 'orange'>repr</font>(object) is that <font color = 'green'>str</font>(object) does <br>\n",
    "not always attempt to return a string that is acceptable to <font color = 'green'>eval</font>(). Rather, its goal is to return a printable or 'human <br>\n",
    "readable' string. If no argument is given, this returns the empty string, ''."
   ]
  },
  {
   "cell_type": "markdown",
   "metadata": {},
   "source": [
    "Example 1:"
   ]
  },
  {
   "cell_type": "code",
   "execution_count": 31,
   "metadata": {},
   "outputs": [
    {
     "data": {
      "text/plain": [
       "'\\'w\\\\\\'o\"w\\''"
      ]
     },
     "execution_count": 31,
     "metadata": {},
     "output_type": "execute_result"
    }
   ],
   "source": [
    "s = \"\"\"w'o\"w\"\"\"\n",
    "repr(s) # Output: '\\'w\\\\\\'o\"w\\''"
   ]
  },
  {
   "cell_type": "code",
   "execution_count": 32,
   "metadata": {},
   "outputs": [
    {
     "data": {
      "text/plain": [
       "'w\\'o\"w'"
      ]
     },
     "execution_count": 32,
     "metadata": {},
     "output_type": "execute_result"
    }
   ],
   "source": [
    "str(s) # Output: 'w\\'o\"w'"
   ]
  },
  {
   "cell_type": "code",
   "execution_count": 33,
   "metadata": {},
   "outputs": [
    {
     "ename": "SyntaxError",
     "evalue": "unterminated string literal (detected at line 1) (<string>, line 1)",
     "output_type": "error",
     "traceback": [
      "Traceback \u001b[1;36m(most recent call last)\u001b[0m:\n",
      "  File \u001b[0;32mc:\\Users\\soghatur\\AppData\\Local\\Programs\\Python\\Python310\\lib\\site-packages\\IPython\\core\\interactiveshell.py:3369\u001b[0m in \u001b[0;35mrun_code\u001b[0m\n    exec(code_obj, self.user_global_ns, self.user_ns)\n",
      "\u001b[1;36m  Input \u001b[1;32mIn [33]\u001b[1;36m in \u001b[1;35m<cell line: 1>\u001b[1;36m\u001b[0m\n\u001b[1;33m    eval(str(s)) == s # Gives a SyntaxError\u001b[0m\n",
      "\u001b[1;36m  File \u001b[1;32m<string>:1\u001b[1;36m\u001b[0m\n\u001b[1;33m    w'o\"w\u001b[0m\n\u001b[1;37m     ^\u001b[0m\n\u001b[1;31mSyntaxError\u001b[0m\u001b[1;31m:\u001b[0m unterminated string literal (detected at line 1)\n"
     ]
    }
   ],
   "source": [
    "eval(str(s)) == s # Gives a SyntaxError"
   ]
  },
  {
   "cell_type": "code",
   "execution_count": 34,
   "metadata": {},
   "outputs": [
    {
     "data": {
      "text/plain": [
       "True"
      ]
     },
     "execution_count": 34,
     "metadata": {},
     "output_type": "execute_result"
    }
   ],
   "source": [
    "eval(repr(s)) == s # Output: True"
   ]
  },
  {
   "cell_type": "markdown",
   "metadata": {},
   "source": [
    "Example 2:"
   ]
  },
  {
   "cell_type": "code",
   "execution_count": 35,
   "metadata": {},
   "outputs": [
    {
     "data": {
      "text/plain": [
       "'2022-09-24 22:09:08.399640'"
      ]
     },
     "execution_count": 35,
     "metadata": {},
     "output_type": "execute_result"
    }
   ],
   "source": [
    "import datetime\n",
    "today = datetime.datetime.now()\n",
    "str(today) # Output: '2016-09-15 06:58:46.915000'"
   ]
  },
  {
   "cell_type": "code",
   "execution_count": 36,
   "metadata": {},
   "outputs": [
    {
     "data": {
      "text/plain": [
       "'datetime.datetime(2022, 9, 24, 22, 9, 8, 399640)'"
      ]
     },
     "execution_count": 36,
     "metadata": {},
     "output_type": "execute_result"
    }
   ],
   "source": [
    "repr(today) # Output: 'datetime.datetime(2016, 9, 15, 6, 58, 46, 915000)'"
   ]
  },
  {
   "cell_type": "markdown",
   "metadata": {},
   "source": [
    "When writing a class, you can override these methods to do whatever you want:"
   ]
  },
  {
   "cell_type": "code",
   "execution_count": 37,
   "metadata": {},
   "outputs": [],
   "source": [
    "class Represent(object):\n",
    " def __init__(self, x, y):\n",
    "     self.x, self.y = x, y\n",
    " def __repr__(self):\n",
    "     return \"Represent(x={},y=\\\"{}\\\")\".format(self.x, self.y)\n",
    " def __str__(self):\n",
    "     return \"Representing x as {} and y as {}\".format(self.x, self.y)\n"
   ]
  },
  {
   "cell_type": "markdown",
   "metadata": {},
   "source": [
    "Using the above class we can see the results:"
   ]
  },
  {
   "cell_type": "code",
   "execution_count": 38,
   "metadata": {},
   "outputs": [
    {
     "name": "stdout",
     "output_type": "stream",
     "text": [
      "Representing x as 1 and y as Hopper\n"
     ]
    }
   ],
   "source": [
    "r = Represent(1, \"Hopper\")\n",
    "print(r) # prints __str__"
   ]
  },
  {
   "cell_type": "code",
   "execution_count": 39,
   "metadata": {},
   "outputs": [
    {
     "name": "stdout",
     "output_type": "stream",
     "text": [
      "<bound method Represent.__repr__ of Represent(x=1,y=\"Hopper\")>\n"
     ]
    }
   ],
   "source": [
    "print(r.__repr__) # prints __repr__: '<bound method Represent.__repr__ of\n",
    "# Represent(x=1,y=\"Hopper\")>'"
   ]
  },
  {
   "cell_type": "code",
   "execution_count": 40,
   "metadata": {},
   "outputs": [
    {
     "name": "stdout",
     "output_type": "stream",
     "text": [
      "Represent(x=1,y=\"Hopper\")\n"
     ]
    }
   ],
   "source": [
    "rep = r.__repr__() # sets the execution of __repr__ to a new variable\n",
    "print(rep) # prints 'Represent(x=1,y=\"Hopper\")'"
   ]
  },
  {
   "cell_type": "code",
   "execution_count": 41,
   "metadata": {},
   "outputs": [
    {
     "name": "stdout",
     "output_type": "stream",
     "text": [
      "Representing x as 1 and y as Hopper\n"
     ]
    }
   ],
   "source": [
    "r2 = eval(rep) # evaluates rep\n",
    "print(r2) # prints __str__ from new object"
   ]
  },
  {
   "cell_type": "code",
   "execution_count": 42,
   "metadata": {},
   "outputs": [
    {
     "name": "stdout",
     "output_type": "stream",
     "text": [
      "False\n"
     ]
    }
   ],
   "source": [
    "print(r2 == r) # prints 'False' because they are different objects"
   ]
  }
 ],
 "metadata": {
  "kernelspec": {
   "display_name": "Python 3.10.4 64-bit",
   "language": "python",
   "name": "python3"
  },
  "language_info": {
   "codemirror_mode": {
    "name": "ipython",
    "version": 3
   },
   "file_extension": ".py",
   "mimetype": "text/x-python",
   "name": "python",
   "nbconvert_exporter": "python",
   "pygments_lexer": "ipython3",
   "version": "3.10.4"
  },
  "orig_nbformat": 4,
  "vscode": {
   "interpreter": {
    "hash": "cddf2645a6a3ab2d03dc52c73588f8603eb596e75ff57e7d6cdffdd4fb718815"
   }
  }
 },
 "nbformat": 4,
 "nbformat_minor": 2
}
