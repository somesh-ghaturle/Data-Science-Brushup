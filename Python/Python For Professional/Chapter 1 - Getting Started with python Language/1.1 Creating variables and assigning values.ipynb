{
 "cells": [
  {
   "cell_type": "code",
   "execution_count": null,
   "metadata": {},
   "outputs": [],
   "source": [
    "# Integer\n",
    "a = 2\n",
    "print(a)\n",
    "# Output: 2\n",
    "# Integer\n",
    "b = 9223372036854775807\n",
    "print(b)\n",
    "# Output: 9223372036854775807\n",
    "# Floating point\n",
    "pi = 3.14\n",
    "print(pi)\n",
    "# Output: 3.14\n",
    "# String\n",
    "c = 'A'\n",
    "print(c)\n",
    "# Output: A\n",
    "# String\n",
    "name = 'John Doe'\n",
    "print(name)\n",
    "# Output: John Doe\n",
    "# Boolean\n",
    "q = True\n",
    "print(q)\n",
    "# Output: True\n",
    "# Empty value or null data type\n",
    "x = None\n",
    "print(x)\n",
    "# Output: None"
   ]
  },
  {
   "cell_type": "code",
   "execution_count": 1,
   "metadata": {},
   "outputs": [
    {
     "name": "stdout",
     "output_type": "stream",
     "text": [
      "['False', 'None', 'True', 'and', 'as', 'assert', 'async', 'await', 'break', 'class', 'continue', 'def', 'del', 'elif', 'else', 'except', 'finally', 'for', 'from', 'global', 'if', 'import', 'in', 'is', 'lambda', 'nonlocal', 'not', 'or', 'pass', 'raise', 'return', 'try', 'while', 'with', 'yield']\n"
     ]
    }
   ],
   "source": [
    "# You can not use python's keywords as a valid variable name. You can see the list of keyword by:\n",
    "import keyword\n",
    "print(keyword.kwlist)"
   ]
  },
  {
   "cell_type": "code",
   "execution_count": null,
   "metadata": {},
   "outputs": [],
   "source": [
    "# You can assign multiple values to multiple variables in one line. Note that there must be the same number of arguments on the right and left sides of the = operator:\n",
    "a, b, c = 1, 2, 3\n",
    "print(a, b, c)\n",
    "# Output: 1 2 3"
   ]
  },
  {
   "cell_type": "code",
   "execution_count": 2,
   "metadata": {},
   "outputs": [
    {
     "name": "stdout",
     "output_type": "stream",
     "text": [
      "1 1 1\n"
     ]
    }
   ],
   "source": [
    "# You can also assign a single value to several variables simultaneously.\n",
    "a = b = c = 1\n",
    "print(a, b, c)\n",
    "# Output: 1 1 1"
   ]
  },
  {
   "cell_type": "code",
   "execution_count": null,
   "metadata": {},
   "outputs": [
    {
     "name": "stdout",
     "output_type": "stream",
     "text": [
      "[13, 8, 9]\n"
     ]
    }
   ],
   "source": [
    "x = y = [7, 8, 9] # x and y are two different names for the same list object just created, [7,8, 9]\n",
    "x[0] = 13 # we are updating the value of the list [7, 8, 9] through one of its names, x in this case\n",
    "print(y) # printing the value of the list using its other name\n",
    "# Output: [13, 8, 9] # hence, naturally the change is reflected\n"
   ]
  },
  {
   "cell_type": "code",
   "execution_count": null,
   "metadata": {},
   "outputs": [
    {
     "name": "stdout",
     "output_type": "stream",
     "text": [
      "[3, 4, 5]\n",
      "4\n"
     ]
    }
   ],
   "source": [
    "# Nested lists are also valid in python. This means that a list can contain another list as an element.\n",
    "x = [1, 2, [3, 4, 5], 6, 7] # this is nested list\n",
    "print(x[2])\n",
    "# Output: [3, 4, 5]\n",
    "print(x[2][1])\n",
    "# Output: 4"
   ]
  },
  {
   "cell_type": "code",
   "execution_count": null,
   "metadata": {},
   "outputs": [
    {
     "name": "stdout",
     "output_type": "stream",
     "text": [
      "2\n",
      "New value\n"
     ]
    }
   ],
   "source": [
    "# Lastly, variables in Python do not have to stay the same type as which they were first defined -- you can simply use = \n",
    "# to assign a new value to a variable, even if that value is of a different type.\n",
    "\n",
    "a = 2\n",
    "print(a)\n",
    "# Output: 2\n",
    "a = \"New value\"\n",
    "print(a)\n",
    "# Output: New value"
   ]
  },
  {
   "cell_type": "code",
   "execution_count": null,
   "metadata": {},
   "outputs": [],
   "source": []
  }
 ],
 "metadata": {
  "kernelspec": {
   "display_name": "Python 3.10.4 64-bit",
   "language": "python",
   "name": "python3"
  },
  "language_info": {
   "codemirror_mode": {
    "name": "ipython",
    "version": 3
   },
   "file_extension": ".py",
   "mimetype": "text/x-python",
   "name": "python",
   "nbconvert_exporter": "python",
   "pygments_lexer": "ipython3",
   "version": "3.10.4"
  },
  "orig_nbformat": 4,
  "vscode": {
   "interpreter": {
    "hash": "cddf2645a6a3ab2d03dc52c73588f8603eb596e75ff57e7d6cdffdd4fb718815"
   }
  }
 },
 "nbformat": 4,
 "nbformat_minor": 2
}
