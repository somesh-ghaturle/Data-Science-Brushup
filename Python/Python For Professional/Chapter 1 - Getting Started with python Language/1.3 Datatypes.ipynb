{
 "cells": [
  {
   "cell_type": "markdown",
   "metadata": {},
   "source": [
    "#### Built-in Types"
   ]
  },
  {
   "cell_type": "markdown",
   "metadata": {},
   "source": [
    "##### 1. Booleans "
   ]
  },
  {
   "cell_type": "code",
   "execution_count": 1,
   "metadata": {},
   "outputs": [],
   "source": [
    "import random \n",
    "x, y = random.getrandbits(1) , random.getrandbits(1)"
   ]
  },
  {
   "cell_type": "code",
   "execution_count": 2,
   "metadata": {},
   "outputs": [
    {
     "data": {
      "text/plain": [
       "True"
      ]
     },
     "execution_count": 2,
     "metadata": {},
     "output_type": "execute_result"
    }
   ],
   "source": [
    "#bool: A boolean value of either True or False. Logical operations like and, or, not can be performed on booleans.\n",
    "x or y # if x is False then y otherwise x\n",
    "x and y # if x is False then x otherwise y\n",
    "not x # if x is True then False, otherwise True"
   ]
  },
  {
   "cell_type": "code",
   "execution_count": 3,
   "metadata": {},
   "outputs": [
    {
     "data": {
      "text/plain": [
       "True"
      ]
     },
     "execution_count": 3,
     "metadata": {},
     "output_type": "execute_result"
    }
   ],
   "source": [
    "# The bool type is a subclass of the int type and True and False are its only instances:\n",
    "issubclass(bool, int) # True\n",
    "isinstance(True, bool) # True\n",
    "isinstance(False, bool) # True"
   ]
  },
  {
   "cell_type": "code",
   "execution_count": 4,
   "metadata": {},
   "outputs": [
    {
     "data": {
      "text/plain": [
       "True"
      ]
     },
     "execution_count": 4,
     "metadata": {},
     "output_type": "execute_result"
    }
   ],
   "source": [
    "# If boolean values are used in arithmetic operations, their integer values (1 and 0 for True and False) will be used to\n",
    "# return an integer result:\n",
    "\n",
    "True + False == 1 # 1 + 0 == 1\n",
    "True * True == 1 # 1 * 1 == 1"
   ]
  },
  {
   "cell_type": "markdown",
   "metadata": {},
   "source": [
    "##### 2. Numbers \n",
    "int: Integer number"
   ]
  },
  {
   "cell_type": "code",
   "execution_count": 5,
   "metadata": {},
   "outputs": [],
   "source": [
    "a = 2\n",
    "b = 100\n",
    "c = 123456789\n",
    "d = 38563846326424324\n",
    "\n",
    "# Integers in Python are of arbitrary sizes.\n",
    "\n",
    "# Note: in older versions of Python, a long type was available and this was distinct from int. The two have\n",
    "# been unified.\n"
   ]
  },
  {
   "cell_type": "markdown",
   "metadata": {},
   "source": [
    "##### 3. Float"
   ]
  },
  {
   "cell_type": "code",
   "execution_count": 6,
   "metadata": {},
   "outputs": [],
   "source": [
    "# float: Floating point number; precision depends on the implementation and system architecture, for\n",
    "# CPython the float datatype corresponds to a C double.\n",
    "\n",
    "a = 2.0\n",
    "b = 100.e0\n",
    "c = 123456789.e1\n"
   ]
  },
  {
   "cell_type": "markdown",
   "metadata": {},
   "source": [
    "##### 4. Complex numbers"
   ]
  },
  {
   "cell_type": "code",
   "execution_count": 7,
   "metadata": {},
   "outputs": [],
   "source": [
    "a = 2 + 1j\n",
    "b = 100 + 10j\n",
    "\n",
    "# The <, <=, > and >= operators will raise a TypeError exception when any operand is a complex number"
   ]
  },
  {
   "cell_type": "markdown",
   "metadata": {},
   "source": [
    "##### 5. Strings"
   ]
  },
  {
   "cell_type": "code",
   "execution_count": 8,
   "metadata": {},
   "outputs": [],
   "source": [
    "# Strings\n",
    "# Python 3.x Version ≥ 3.0\n",
    "# str: a unicode string. The type of 'hello'\n",
    "# bytes: a byte string. The type of b'hello'\n",
    "# Python 2.x Version ≤ 2.7\n",
    "# str: a byte string. The type of 'hello'\n",
    "# bytes: synonym for str\n",
    "# unicode: a unicode string. The type of u'hello'"
   ]
  },
  {
   "cell_type": "markdown",
   "metadata": {},
   "source": [
    "#### Sequences and collections \n",
    "Python differentiates between ordered sequences and unordered collections (such as set and dict).\n"
   ]
  },
  {
   "cell_type": "markdown",
   "metadata": {},
   "source": [
    "1. Strings (str, bytes, unicode) are sequences. "
   ]
  },
  {
   "cell_type": "markdown",
   "metadata": {},
   "source": [
    "2. reversed: A reversed order of str with reversed function."
   ]
  },
  {
   "cell_type": "code",
   "execution_count": 9,
   "metadata": {},
   "outputs": [
    {
     "name": "stdout",
     "output_type": "stream",
     "text": [
      "['o', 'l', 'l', 'e', 'h']\n"
     ]
    }
   ],
   "source": [
    "a = reversed('hello')\n",
    "print(list(a))"
   ]
  },
  {
   "cell_type": "markdown",
   "metadata": {},
   "source": [
    "3. Tuple . An Ordered Collection of n Values of any Type (n > = 0)"
   ]
  },
  {
   "cell_type": "code",
   "execution_count": 10,
   "metadata": {},
   "outputs": [
    {
     "ename": "TypeError",
     "evalue": "'tuple' object does not support item assignment",
     "output_type": "error",
     "traceback": [
      "\u001b[1;31m---------------------------------------------------------------------------\u001b[0m",
      "\u001b[1;31mTypeError\u001b[0m                                 Traceback (most recent call last)",
      "\u001b[1;32mc:\\Users\\soghatur\\Github\\Data-Science-Brushup\\Python\\Python For Professional\\Chapter 1 - Getting Started with python Language\\1.3 Datatypes.ipynb Cell 20\u001b[0m in \u001b[0;36m<cell line: 3>\u001b[1;34m()\u001b[0m\n\u001b[0;32m      <a href='vscode-notebook-cell:/c%3A/Users/soghatur/Github/Data-Science-Brushup/Python/Python%20For%20Professional/Chapter%201%20-%20Getting%20Started%20with%20python%20Language/1.3%20Datatypes.ipynb#X25sZmlsZQ%3D%3D?line=0'>1</a>\u001b[0m a \u001b[39m=\u001b[39m (\u001b[39m1\u001b[39m, \u001b[39m2\u001b[39m, \u001b[39m3\u001b[39m)\n\u001b[0;32m      <a href='vscode-notebook-cell:/c%3A/Users/soghatur/Github/Data-Science-Brushup/Python/Python%20For%20Professional/Chapter%201%20-%20Getting%20Started%20with%20python%20Language/1.3%20Datatypes.ipynb#X25sZmlsZQ%3D%3D?line=1'>2</a>\u001b[0m b \u001b[39m=\u001b[39m (\u001b[39m'\u001b[39m\u001b[39ma\u001b[39m\u001b[39m'\u001b[39m, \u001b[39m1\u001b[39m, \u001b[39m'\u001b[39m\u001b[39mpython\u001b[39m\u001b[39m'\u001b[39m, (\u001b[39m1\u001b[39m, \u001b[39m2\u001b[39m))\n\u001b[1;32m----> <a href='vscode-notebook-cell:/c%3A/Users/soghatur/Github/Data-Science-Brushup/Python/Python%20For%20Professional/Chapter%201%20-%20Getting%20Started%20with%20python%20Language/1.3%20Datatypes.ipynb#X25sZmlsZQ%3D%3D?line=2'>3</a>\u001b[0m b[\u001b[39m2\u001b[39m] \u001b[39m=\u001b[39m \u001b[39m'\u001b[39m\u001b[39msomething else\u001b[39m\u001b[39m'\u001b[39m\n",
      "\u001b[1;31mTypeError\u001b[0m: 'tuple' object does not support item assignment"
     ]
    }
   ],
   "source": [
    "a = (1, 2, 3)\n",
    "b = ('a', 1, 'python', (1, 2))\n",
    "b[2] = 'something else' # returns a TypeError\n",
    "\n",
    "# Supports indexing; immutable; hashable if all its members are hashable"
   ]
  },
  {
   "cell_type": "markdown",
   "metadata": {},
   "source": [
    "4. List: An ordered collection of n values (n >= 0)"
   ]
  },
  {
   "cell_type": "code",
   "execution_count": null,
   "metadata": {},
   "outputs": [],
   "source": [
    "a = [1, 2, 3]\n",
    "b = ['a', 1, 'python', (1, 2), [1, 2]]\n",
    "b[2] = 'something else' # allowed\n",
    "\n",
    "#Not hashable; mutable.\n"
   ]
  },
  {
   "cell_type": "markdown",
   "metadata": {},
   "source": [
    "5. Set: An unordered collection of unique values. Items must be hashable."
   ]
  },
  {
   "cell_type": "code",
   "execution_count": null,
   "metadata": {},
   "outputs": [],
   "source": [
    "a = { 1, 2, 'a'}"
   ]
  },
  {
   "cell_type": "markdown",
   "metadata": {},
   "source": [
    "6. Dict: An unordered collection of unique key-value pairs; keys must be hashable.\n"
   ]
  },
  {
   "cell_type": "code",
   "execution_count": null,
   "metadata": {},
   "outputs": [],
   "source": [
    "a = {1: 'one',\n",
    " 2: 'two'}\n",
    "\n",
    "b = {'a': [1, 2, 3],\n",
    " 'b': 'a string'}"
   ]
  },
  {
   "cell_type": "markdown",
   "metadata": {},
   "source": [
    "Note : An object is hashable if it has a hash value which never changes during its lifetime (it needs a __hash__() <br>\n",
    "method), and can be compared to other objects (it needs an __eq__() method). Hashable objects which <br>\n",
    "compare equality must have the same hash value."
   ]
  },
  {
   "cell_type": "markdown",
   "metadata": {},
   "source": [
    "#### Built-in constants"
   ]
  },
  {
   "cell_type": "markdown",
   "metadata": {},
   "source": [
    "In conjunction with the built-in datatypes there are a small number of built-in constants in the built-in namespace: <br>\n",
    "- True: The true value of the built-in type bool\n",
    "- False: The false value of the built-in type bool\n",
    "- None: A singleton object used to signal that a value is absent.\n",
    "- Ellipsis or ...: used in core Python3+ anywhere and limited usage in Python2.7+ as part of array notation.\n",
    "- numpy and related packages use this as a 'include everything' reference in arrays.\n",
    "- NotImplemented: a singleton used to indicate to Python that a special method doesn't support the specific\n",
    "arguments, and Python will try alternatives if available.\n"
   ]
  },
  {
   "cell_type": "code",
   "execution_count": null,
   "metadata": {},
   "outputs": [],
   "source": [
    "a = None"
   ]
  },
  {
   "cell_type": "markdown",
   "metadata": {},
   "source": [
    "None doesn't have any natural ordering. Using ordering comparison operators (<, <=, >=, >) isn't supported anymore\n",
    "and will raise a TypeError. <br>\n",
    "**None** is always less than any number (None < -32 evaluates to True).\n"
   ]
  },
  {
   "cell_type": "markdown",
   "metadata": {},
   "source": [
    "##### Testing the type of variables\n",
    "In python, we can check the datatype of an object using the built-in function type."
   ]
  },
  {
   "cell_type": "code",
   "execution_count": null,
   "metadata": {},
   "outputs": [
    {
     "name": "stdout",
     "output_type": "stream",
     "text": [
      "<class 'str'>\n",
      "<class 'int'>\n"
     ]
    }
   ],
   "source": [
    "a = '123'\n",
    "print(type(a))\n",
    "# Out: <class 'str'>\n",
    "\n",
    "b = 123\n",
    "print(type(b))\n",
    "# Out: <class 'int'>"
   ]
  },
  {
   "cell_type": "markdown",
   "metadata": {},
   "source": [
    "In conditional statements it is possible to test the datatype with isinstance. However, it is usually not encouraged\n",
    "to rely on the type of the variable."
   ]
  },
  {
   "cell_type": "code",
   "execution_count": null,
   "metadata": {},
   "outputs": [],
   "source": [
    "i = 7\n",
    "if isinstance(i, int):\n",
    "    i += 1\n",
    "elif isinstance(i, str):\n",
    "    i = int(i)\n",
    "    i += 1"
   ]
  },
  {
   "cell_type": "markdown",
   "metadata": {},
   "source": [
    "For information on the differences between type() and isinstance() read: (https://stackoverflow.com/questions/1549801/what-are-the-differences-between-type-and-isinstance)"
   ]
  },
  {
   "cell_type": "markdown",
   "metadata": {},
   "source": [
    "To test if something is of NoneType:"
   ]
  },
  {
   "cell_type": "code",
   "execution_count": null,
   "metadata": {},
   "outputs": [
    {
     "name": "stdout",
     "output_type": "stream",
     "text": [
      "Not a Surprice, I just Define x as None. \n"
     ]
    }
   ],
   "source": [
    "x = None \n",
    "if x is None:\n",
    "    print('Not a Surprice, I just Define x as None. ')"
   ]
  },
  {
   "cell_type": "markdown",
   "metadata": {},
   "source": [
    "You can perform explicit datatype conversion. <br>\n",
    "For example, *'123'* is of *str* type and it can be converted to integer using int function ."
   ]
  },
  {
   "cell_type": "code",
   "execution_count": null,
   "metadata": {},
   "outputs": [
    {
     "name": "stdout",
     "output_type": "stream",
     "text": [
      "<class 'int'>\n"
     ]
    }
   ],
   "source": [
    "a = '123'\n",
    "b = int(a)\n",
    "print(type(b))"
   ]
  },
  {
   "cell_type": "markdown",
   "metadata": {},
   "source": [
    "Converting from a float string such as *'123.456'* can be done using *float* function"
   ]
  },
  {
   "cell_type": "code",
   "execution_count": null,
   "metadata": {},
   "outputs": [
    {
     "name": "stdout",
     "output_type": "stream",
     "text": [
      "<class 'float'>\n"
     ]
    },
    {
     "ename": "ValueError",
     "evalue": "invalid literal for int() with base 10: '123.456'",
     "output_type": "error",
     "traceback": [
      "\u001b[1;31m---------------------------------------------------------------------------\u001b[0m",
      "\u001b[1;31mValueError\u001b[0m                                Traceback (most recent call last)",
      "\u001b[1;32mc:\\Users\\soghatur\\Github\\Data-Science-Brushup\\Python\\Python For Professional\\Chapter 1 - Getting Started with python Language\\1.3 Datatypes.ipynb Cell 42\u001b[0m in \u001b[0;36m<cell line: 5>\u001b[1;34m()\u001b[0m\n\u001b[0;32m      <a href='vscode-notebook-cell:/c%3A/Users/soghatur/Github/Data-Science-Brushup/Python/Python%20For%20Professional/Chapter%201%20-%20Getting%20Started%20with%20python%20Language/1.3%20Datatypes.ipynb#X65sZmlsZQ%3D%3D?line=1'>2</a>\u001b[0m b \u001b[39m=\u001b[39m \u001b[39mfloat\u001b[39m(a)\n\u001b[0;32m      <a href='vscode-notebook-cell:/c%3A/Users/soghatur/Github/Data-Science-Brushup/Python/Python%20For%20Professional/Chapter%201%20-%20Getting%20Started%20with%20python%20Language/1.3%20Datatypes.ipynb#X65sZmlsZQ%3D%3D?line=2'>3</a>\u001b[0m \u001b[39mprint\u001b[39m(\u001b[39mtype\u001b[39m(b)) \n\u001b[1;32m----> <a href='vscode-notebook-cell:/c%3A/Users/soghatur/Github/Data-Science-Brushup/Python/Python%20For%20Professional/Chapter%201%20-%20Getting%20Started%20with%20python%20Language/1.3%20Datatypes.ipynb#X65sZmlsZQ%3D%3D?line=4'>5</a>\u001b[0m c \u001b[39m=\u001b[39m \u001b[39mint\u001b[39;49m(a) \u001b[39m# ValueError: invalid literal for int() with base 10: '123.456'\u001b[39;00m\n\u001b[0;32m      <a href='vscode-notebook-cell:/c%3A/Users/soghatur/Github/Data-Science-Brushup/Python/Python%20For%20Professional/Chapter%201%20-%20Getting%20Started%20with%20python%20Language/1.3%20Datatypes.ipynb#X65sZmlsZQ%3D%3D?line=5'>6</a>\u001b[0m d \u001b[39m=\u001b[39m \u001b[39mint\u001b[39m(b)\n",
      "\u001b[1;31mValueError\u001b[0m: invalid literal for int() with base 10: '123.456'"
     ]
    }
   ],
   "source": [
    "a = '123.456'\n",
    "b = float(a)\n",
    "print(type(b)) \n",
    "\n",
    "c = int(a) # ValueError: invalid literal for int() with base 10: '123.456'\n",
    "d = int(b) # 123"
   ]
  },
  {
   "cell_type": "markdown",
   "metadata": {},
   "source": [
    "You can also convert sequence or collection types"
   ]
  },
  {
   "cell_type": "code",
   "execution_count": null,
   "metadata": {},
   "outputs": [
    {
     "data": {
      "text/plain": [
       "('h', 'e', 'l', 'l', 'o')"
      ]
     },
     "execution_count": 57,
     "metadata": {},
     "output_type": "execute_result"
    }
   ],
   "source": [
    "a = 'hello'\n",
    "list(a) # ['h', 'e', 'l', 'l', 'o']\n",
    "set(a) # {'o', 'e', 'l', 'h'}\n",
    "tuple(a) # ('h', 'e', 'l', 'l', 'o')"
   ]
  },
  {
   "cell_type": "markdown",
   "metadata": {},
   "source": [
    "**Explicit string type at definition of literals**\n",
    "\n",
    "With one letter labels just in front of the quotes you can tell what type of string you want to define. <>\n",
    "- b'foo bar': results bytes in Python 3, str in Python 2\n",
    "- u'foo bar': results str in Python 3, unicode in Python 2\n",
    "- 'foo bar': results str\n",
    "- r'foo bar': results so called raw string, where escaping special characters is not necessary, everything is\n",
    "taken verbatim as you typed\n"
   ]
  },
  {
   "cell_type": "code",
   "execution_count": null,
   "metadata": {},
   "outputs": [
    {
     "name": "stdout",
     "output_type": "stream",
     "text": [
      "foo\n",
      "bar\n",
      "foo\\nbar\n",
      "foo\\nbar\n"
     ]
    }
   ],
   "source": [
    "normal = 'foo\\nbar' # foo \n",
    "# bar\n",
    "print(normal)\n",
    "\n",
    "escaped = 'foo\\\\nbar' # foo\\nbar\n",
    "print(escaped)\n",
    "\n",
    "raw = r'foo\\nbar' # foo\\nbar\n",
    "print(raw)"
   ]
  },
  {
   "cell_type": "markdown",
   "metadata": {},
   "source": [
    "**Mutable and Immutable Data Types** <br>\n",
    "An object is called mutable if it can be changed. For example, when you pass a list to some function, the list can be\n",
    "changed:"
   ]
  },
  {
   "cell_type": "code",
   "execution_count": null,
   "metadata": {},
   "outputs": [
    {
     "name": "stdout",
     "output_type": "stream",
     "text": [
      "[1, 2, 3]\n"
     ]
    },
    {
     "data": {
      "text/plain": [
       "False"
      ]
     },
     "execution_count": 63,
     "metadata": {},
     "output_type": "execute_result"
    }
   ],
   "source": [
    "def f(m):\n",
    "    m.append(3) # adds a number to the list. This is a mutation.\n",
    "    \n",
    "x = [1, 2]\n",
    "f(x)\n",
    "print(x) # Value of Function \n",
    "x == [1, 2]  # False now, since an item was added to the list"
   ]
  },
  {
   "cell_type": "markdown",
   "metadata": {},
   "source": [
    "An object is called immutable if it cannot be changed in any way. For example, integers are immutable, since there's\n",
    "no way to change them:\n"
   ]
  },
  {
   "cell_type": "code",
   "execution_count": null,
   "metadata": {},
   "outputs": [
    {
     "data": {
      "text/plain": [
       "True"
      ]
     },
     "execution_count": 68,
     "metadata": {},
     "output_type": "execute_result"
    }
   ],
   "source": [
    "def g(x): None\n",
    "\n",
    "def bar():\n",
    " x = (1, 2)\n",
    " g(x)\n",
    " return x == (1, 2) # Will always be True, since no function can change the object (1, 2)\n",
    " \n",
    "\n",
    "bar()"
   ]
  },
  {
   "cell_type": "markdown",
   "metadata": {},
   "source": [
    "Note that **variables** themselves are mutable, so we can reassign the variable x, but this does not change the object\n",
    "that x had previously pointed to. It only made x point to a new object. <br>\n",
    "Data types whose instances are mutable are called mutable data types, and similarly for immutable objects and\n",
    "datatypes."
   ]
  },
  {
   "cell_type": "markdown",
   "metadata": {},
   "source": [
    "Examples of immutable Data Types:\n",
    "- int, long, float, complex\n",
    "- str\n",
    "- bytes\n",
    "- tuple\n",
    "- frozenset\n",
    "\n"
   ]
  },
  {
   "cell_type": "markdown",
   "metadata": {},
   "source": [
    "Examples of mutable Data Types:\n",
    "- bytearray\n",
    "- list\n",
    "- set\n",
    "- dict"
   ]
  }
 ],
 "metadata": {
  "kernelspec": {
   "display_name": "Python 3.10.4 64-bit",
   "language": "python",
   "name": "python3"
  },
  "language_info": {
   "codemirror_mode": {
    "name": "ipython",
    "version": 3
   },
   "file_extension": ".py",
   "mimetype": "text/x-python",
   "name": "python",
   "nbconvert_exporter": "python",
   "pygments_lexer": "ipython3",
   "version": "3.10.4"
  },
  "orig_nbformat": 4,
  "vscode": {
   "interpreter": {
    "hash": "cddf2645a6a3ab2d03dc52c73588f8603eb596e75ff57e7d6cdffdd4fb718815"
   }
  }
 },
 "nbformat": 4,
 "nbformat_minor": 2
}
