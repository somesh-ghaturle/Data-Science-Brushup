{
 "cells": [
  {
   "cell_type": "markdown",
   "metadata": {},
   "source": [
    "#### Lists"
   ]
  },
  {
   "cell_type": "markdown",
   "metadata": {},
   "source": [
    "The *list* type is probably the most commonly used collection type in Python. Despite its name, a list is more like an <br>\n",
    "array in other languages, mostly JavaScript. In Python, a list is merely an ordered collection of valid Python values. <br>A\n",
    "list can be created by enclosing values, separated by commas, in square brackets:"
   ]
  },
  {
   "cell_type": "code",
   "execution_count": 8,
   "metadata": {},
   "outputs": [],
   "source": [
    "int_list = [1, 2, 3]\n",
    "string_list = ['abc', 'defghi']"
   ]
  },
  {
   "cell_type": "markdown",
   "metadata": {},
   "source": [
    "A list can be empty: <br>"
   ]
  },
  {
   "cell_type": "code",
   "execution_count": 9,
   "metadata": {},
   "outputs": [],
   "source": [
    "empty_list = []"
   ]
  },
  {
   "cell_type": "markdown",
   "metadata": {},
   "source": [
    "The elements of a list are not restricted to a single data type, which makes sense given that Python is a dynamic <br>\n",
    "language:"
   ]
  },
  {
   "cell_type": "code",
   "execution_count": 10,
   "metadata": {},
   "outputs": [],
   "source": [
    "mixed_list = [1,'abc',True,2.34,None]"
   ]
  },
  {
   "cell_type": "markdown",
   "metadata": {},
   "source": [
    "A list can contain another list as its element:"
   ]
  },
  {
   "cell_type": "code",
   "execution_count": 11,
   "metadata": {},
   "outputs": [],
   "source": [
    "nested_list = [['a','b','c'],[1,2,3]]"
   ]
  },
  {
   "cell_type": "markdown",
   "metadata": {},
   "source": [
    "The elements of a list can be accessed *via* an *index*, or numeric representation of their position. Lists in Python are <br>\n",
    "*zero-indexed* meaning that the first element in the list is at index 0, the second element is at index 1 and so on:"
   ]
  },
  {
   "cell_type": "code",
   "execution_count": 12,
   "metadata": {},
   "outputs": [
    {
     "name": "stdout",
     "output_type": "stream",
     "text": [
      "Alice\n",
      "Craig\n"
     ]
    }
   ],
   "source": [
    "names = ['Alice', 'Bob', 'Craig', 'Diana', 'Eric']\n",
    "print(names[0]) # Alice\n",
    "print(names[2]) # Craig"
   ]
  },
  {
   "cell_type": "code",
   "execution_count": null,
   "metadata": {},
   "outputs": [],
   "source": []
  }
 ],
 "metadata": {
  "kernelspec": {
   "display_name": "Python 3.10.4 64-bit",
   "language": "python",
   "name": "python3"
  },
  "language_info": {
   "codemirror_mode": {
    "name": "ipython",
    "version": 3
   },
   "file_extension": ".py",
   "mimetype": "text/x-python",
   "name": "python",
   "nbconvert_exporter": "python",
   "pygments_lexer": "ipython3",
   "version": "3.10.4"
  },
  "orig_nbformat": 4,
  "vscode": {
   "interpreter": {
    "hash": "cddf2645a6a3ab2d03dc52c73588f8603eb596e75ff57e7d6cdffdd4fb718815"
   }
  }
 },
 "nbformat": 4,
 "nbformat_minor": 2
}
