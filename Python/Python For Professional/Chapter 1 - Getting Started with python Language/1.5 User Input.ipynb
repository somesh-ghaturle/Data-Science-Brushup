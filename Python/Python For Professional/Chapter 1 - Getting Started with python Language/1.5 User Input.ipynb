{
 "cells": [
  {
   "cell_type": "markdown",
   "metadata": {},
   "source": [
    "The function takes a string argument, which displays it as a prompt and returns a string. The above code provides a <br>\n",
    "prompt, waiting for the user to input."
   ]
  },
  {
   "cell_type": "code",
   "execution_count": 1,
   "metadata": {},
   "outputs": [],
   "source": [
    "name = input(\"What is your name? \")\n",
    "# Out: What is your name?"
   ]
  },
  {
   "cell_type": "markdown",
   "metadata": {},
   "source": [
    "If the user types \"Bob\" and hits enter, the variable *name* will be assigned to the string \"Bob\":\n"
   ]
  },
  {
   "cell_type": "code",
   "execution_count": 2,
   "metadata": {},
   "outputs": [
    {
     "name": "stdout",
     "output_type": "stream",
     "text": [
      "Bob\n"
     ]
    }
   ],
   "source": [
    "name = input(\"What is your name? \")\n",
    "# Out: What is your name? Bob\n",
    "print(name)\n",
    "# Out: Bob"
   ]
  },
  {
   "cell_type": "markdown",
   "metadata": {},
   "source": [
    "Note that the <font color = 'green'>input</font> is always of type <font color = 'green'>str</font>, which is important if you want the user to enter numbers. Therefore, you\n",
    "need to convert the <font color = 'green'>str</font> before trying to use it as a number:"
   ]
  },
  {
   "cell_type": "code",
   "execution_count": 3,
   "metadata": {},
   "outputs": [
    {
     "ename": "TypeError",
     "evalue": "unsupported operand type(s) for /: 'str' and 'int'",
     "output_type": "error",
     "traceback": [
      "\u001b[1;31m---------------------------------------------------------------------------\u001b[0m",
      "\u001b[1;31mTypeError\u001b[0m                                 Traceback (most recent call last)",
      "\u001b[1;32mc:\\Users\\soghatur\\Github\\Data-Science-Brushup\\Python\\Python For Professional\\Chapter 1 - Getting Started with python Language\\1.5 User Input.ipynb Cell 6\u001b[0m in \u001b[0;36m<cell line: 3>\u001b[1;34m()\u001b[0m\n\u001b[0;32m      <a href='vscode-notebook-cell:/c%3A/Users/soghatur/Github/Data-Science-Brushup/Python/Python%20For%20Professional/Chapter%201%20-%20Getting%20Started%20with%20python%20Language/1.5%20User%20Input.ipynb#X10sZmlsZQ%3D%3D?line=0'>1</a>\u001b[0m x \u001b[39m=\u001b[39m \u001b[39minput\u001b[39m(\u001b[39m\"\u001b[39m\u001b[39mWrite a number:\u001b[39m\u001b[39m\"\u001b[39m)\n\u001b[0;32m      <a href='vscode-notebook-cell:/c%3A/Users/soghatur/Github/Data-Science-Brushup/Python/Python%20For%20Professional/Chapter%201%20-%20Getting%20Started%20with%20python%20Language/1.5%20User%20Input.ipynb#X10sZmlsZQ%3D%3D?line=1'>2</a>\u001b[0m \u001b[39m# Out: Write a number: 10\u001b[39;00m\n\u001b[1;32m----> <a href='vscode-notebook-cell:/c%3A/Users/soghatur/Github/Data-Science-Brushup/Python/Python%20For%20Professional/Chapter%201%20-%20Getting%20Started%20with%20python%20Language/1.5%20User%20Input.ipynb#X10sZmlsZQ%3D%3D?line=2'>3</a>\u001b[0m x \u001b[39m/\u001b[39;49m \u001b[39m2\u001b[39;49m\n",
      "\u001b[1;31mTypeError\u001b[0m: unsupported operand type(s) for /: 'str' and 'int'"
     ]
    }
   ],
   "source": [
    "x = input(\"Write a number:\")\n",
    "# Out: Write a number: 10\n",
    "x / 2\n",
    "# Out: TypeError: unsupported operand type(s) for /: 'str' and 'int'"
   ]
  },
  {
   "cell_type": "code",
   "execution_count": 4,
   "metadata": {},
   "outputs": [
    {
     "data": {
      "text/plain": [
       "5.0"
      ]
     },
     "execution_count": 4,
     "metadata": {},
     "output_type": "execute_result"
    }
   ],
   "source": [
    "float(x) / 2\n",
    "# Out: 5.0"
   ]
  },
  {
   "cell_type": "markdown",
   "metadata": {},
   "source": [
    "NB: It's recommended to use <font color = 'orange'> try/except </font> blocks to catch exceptions when dealing with user inputs. For instance, if\n",
    "your code wants to cast a <font color = 'green'> raw_input </font> into an <font color = 'green'> int </font>, and what the user writes is uncastable, it raises a <font color = 'green'> ValueError </font>."
   ]
  }
 ],
 "metadata": {
  "kernelspec": {
   "display_name": "Python 3.10.4 64-bit",
   "language": "python",
   "name": "python3"
  },
  "language_info": {
   "codemirror_mode": {
    "name": "ipython",
    "version": 3
   },
   "file_extension": ".py",
   "mimetype": "text/x-python",
   "name": "python",
   "nbconvert_exporter": "python",
   "pygments_lexer": "ipython3",
   "version": "3.10.4"
  },
  "orig_nbformat": 4,
  "vscode": {
   "interpreter": {
    "hash": "cddf2645a6a3ab2d03dc52c73588f8603eb596e75ff57e7d6cdffdd4fb718815"
   }
  }
 },
 "nbformat": 4,
 "nbformat_minor": 2
}
